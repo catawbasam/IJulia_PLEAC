{
 "metadata": {
  "language": "Julia",
  "name": ""
 },
 "nbformat": 3,
 "nbformat_minor": 0,
 "worksheets": [
  {
   "cells": [
    {
     "cell_type": "markdown",
     "metadata": {},
     "source": [
      "#4. PLEAC Julia: Arrays\n",
      "\n",
      "[PLEAC = Language Examples Alike Cookbook](http://pleac.sourceforge.net/)\n",
      "PLEAC examples are drawn from the \"Perl Cookbook\" by Tom Christiansen & Nathan Torkington, published by O'Reilly.  They provide a nice range of examples oriented toward data munging, the type of work I tend to want to do first when learning a new language.\n",
      "\n",
      "\n",
      "The Julia examples below are principally translations from the [Python version](http://pleac.sourceforge.net/pleac_python/)\n",
      "\n",
      "###A Novice's Warning\n",
      "I'm learning as I go, so the code below probably doesn't represent best practice.  Your suggestions are welcome! \n",
      "Please file an issue or make a pull request to the [github repo](https://github.com/catawbasam/IJulia_PLEAC/).\n",
      "\n",
      "The examples are not complete. Missing items are generally noted in comments. "
     ]
    },
    {
     "cell_type": "markdown",
     "metadata": {},
     "source": [
      "###PLEAC 4.1: Introduction\n",
      "\n",
      "Julia provides 2 major types of Arrays, typed arrays and arrays of Any (aka cell arrays). Cell arrays  can contain arbitrary types, including nested arrays.  Typed arrays are automatically flattened."
     ]
    },
    {
     "cell_type": "code",
     "collapsed": false,
     "input": [
      "non_nested = [\"this\", \"that\", \"the\", \"other\"]'"
     ],
     "language": "python",
     "metadata": {},
     "outputs": [
      {
       "metadata": {},
       "output_type": "pyout",
       "prompt_number": 11,
       "text": [
        "1x4 Array{ASCIIString,2}:\n",
        " \"this\"  \"that\"  \"the\"  \"other\""
       ]
      }
     ],
     "prompt_number": 11
    },
    {
     "cell_type": "code",
     "collapsed": false,
     "input": [
      "nested_typed = [\"this\", \"that\", [\"the\", \"other\"]]'"
     ],
     "language": "python",
     "metadata": {},
     "outputs": [
      {
       "metadata": {},
       "output_type": "pyout",
       "prompt_number": 10,
       "text": [
        "1x4 Array{ASCIIString,2}:\n",
        " \"this\"  \"that\"  \"the\"  \"other\""
       ]
      }
     ],
     "prompt_number": 10
    },
    {
     "cell_type": "code",
     "collapsed": false,
     "input": [
      "nested_cell = {\"this\", \"that\", [\"the\", \"other\"]}'"
     ],
     "language": "python",
     "metadata": {},
     "outputs": [
      {
       "metadata": {},
       "output_type": "pyout",
       "prompt_number": 9,
       "text": [
        "1x3 Array{Any,2}:\n",
        " \"this\"  \"that\"  [\"the\",\"other\"]"
       ]
      }
     ],
     "prompt_number": 9
    },
    {
     "cell_type": "code",
     "collapsed": false,
     "input": [
      "tune = [\"The\", \"Star-Spangled\", \"Banner\"]'"
     ],
     "language": "python",
     "metadata": {},
     "outputs": [
      {
       "metadata": {},
       "output_type": "pyout",
       "prompt_number": 8,
       "text": [
        "1x3 Array{ASCIIString,2}:\n",
        " \"The\"  \"Star-Spangled\"  \"Banner\""
       ]
      }
     ],
     "prompt_number": 8
    },
    {
     "cell_type": "markdown",
     "metadata": {},
     "source": [
      "###PLEAC 4.2 Specifying an array in your program"
     ]
    },
    {
     "cell_type": "code",
     "collapsed": false,
     "input": [
      "a = [\"quick\", \"brown\", \"fox\"]'"
     ],
     "language": "python",
     "metadata": {},
     "outputs": [
      {
       "metadata": {},
       "output_type": "pyout",
       "prompt_number": 13,
       "text": [
        "1x3 Array{ASCIIString,2}:\n",
        " \"quick\"  \"brown\"  \"fox\""
       ]
      }
     ],
     "prompt_number": 13
    },
    {
     "cell_type": "code",
     "collapsed": false,
     "input": [
      "a = split(\"Why are you teasing me?\")'"
     ],
     "language": "python",
     "metadata": {},
     "outputs": [
      {
       "metadata": {},
       "output_type": "pyout",
       "prompt_number": 14,
       "text": [
        "1x5 Array{String,2}:\n",
        " \"Why\"  \"are\"  \"you\"  \"teasing\"  \"me?\""
       ]
      }
     ],
     "prompt_number": 14
    },
    {
     "cell_type": "code",
     "collapsed": false,
     "input": [
      "text = \"\"\"\n",
      "    The boy stood on the burning deck,\n",
      "    It was as hot as glass.\n",
      "\"\"\""
     ],
     "language": "python",
     "metadata": {},
     "outputs": [
      {
       "metadata": {},
       "output_type": "pyout",
       "prompt_number": 15,
       "text": [
        "\"    The boy stood on the burning deck,\\n    It was as hot as glass.\\n\""
       ]
      }
     ],
     "prompt_number": 15
    },
    {
     "cell_type": "code",
     "collapsed": false,
     "input": [
      "lines = [strip(l) for l in split(strip(text),'\\n')]"
     ],
     "language": "python",
     "metadata": {},
     "outputs": [
      {
       "metadata": {},
       "output_type": "pyout",
       "prompt_number": 19,
       "text": [
        "2-element Array{Any,1}:\n",
        " \"The boy stood on the burning deck,\"\n",
        " \"It was as hot as glass.\"           "
       ]
      }
     ],
     "prompt_number": 19
    },
    {
     "cell_type": "code",
     "collapsed": false,
     "input": [
      "sio = IOBuffer(text)  # using iobuffer rather than file here"
     ],
     "language": "python",
     "metadata": {},
     "outputs": [
      {
       "metadata": {},
       "output_type": "pyout",
       "prompt_number": 24,
       "text": [
        "IOBuffer([0x20,0x20,0x20,0x20,0x54,0x68,0x65,0x20,0x62,0x6f  \u2026  0x61,0x73,0x20,0x67,0x6c,0x61,0x73,0x73,0x2e,0x0a],true,false,true,false,67,9223372036854775807,1)"
       ]
      }
     ],
     "prompt_number": 24
    },
    {
     "cell_type": "code",
     "collapsed": false,
     "input": [
      "tl=readlines(sio)\n",
      "sl=[strip(l) for l in tl]"
     ],
     "language": "python",
     "metadata": {},
     "outputs": [
      {
       "metadata": {},
       "output_type": "pyout",
       "prompt_number": 25,
       "text": [
        "2-element Array{Any,1}:\n",
        " \"The boy stood on the burning deck,\"\n",
        " \"It was as hot as glass.\"           "
       ]
      }
     ],
     "prompt_number": 25
    },
    {
     "cell_type": "code",
     "collapsed": false,
     "input": [
      "close(sio)"
     ],
     "language": "python",
     "metadata": {},
     "outputs": [],
     "prompt_number": 26
    },
    {
     "cell_type": "code",
     "collapsed": false,
     "input": [
      "banner = \"The Mines of Moria\"\n",
      "#no single quoted strings in Julia\n",
      "name = \"Gandalf\"\n",
      "banner = \"Speak,$name and enter!\""
     ],
     "language": "python",
     "metadata": {},
     "outputs": [
      {
       "metadata": {},
       "output_type": "pyout",
       "prompt_number": 27,
       "text": [
        "\"Speak,Gandalf and enter!\""
       ]
      }
     ],
     "prompt_number": 27
    },
    {
     "cell_type": "code",
     "collapsed": false,
     "input": [
      "@sprintf(\"Speak, %s, and welcome!\", name)"
     ],
     "language": "python",
     "metadata": {},
     "outputs": [
      {
       "metadata": {},
       "output_type": "pyout",
       "prompt_number": 28,
       "text": [
        "\"Speak, Gandalf, and welcome!\""
       ]
      }
     ],
     "prompt_number": 28
    },
    {
     "cell_type": "code",
     "collapsed": false,
     "input": [
      "his_host = \"www.julialang.org\"\n",
      "getaddrinfo(his_host)"
     ],
     "language": "python",
     "metadata": {},
     "outputs": [
      {
       "metadata": {},
       "output_type": "pyout",
       "prompt_number": 35,
       "text": [
        "ip\"204.232.175.78\""
       ]
      }
     ],
     "prompt_number": 35
    },
    {
     "cell_type": "code",
     "collapsed": false,
     "input": [
      "julia_info=getpid() # Julia's process id"
     ],
     "language": "python",
     "metadata": {},
     "outputs": [
      {
       "metadata": {},
       "output_type": "pyout",
       "prompt_number": 36,
       "text": [
        "6684"
       ]
      }
     ],
     "prompt_number": 36
    },
    {
     "cell_type": "code",
     "collapsed": false,
     "input": [
      "#shell_info\n",
      ";tasklist #from ijulia.  backticks do not work in my version (since fixed -- need to update!)"
     ],
     "language": "python",
     "metadata": {},
     "outputs": [
      {
       "output_type": "stream",
       "stream": "stdout",
       "text": [
        "\r\n"
       ]
      },
      {
       "output_type": "stream",
       "stream": "stdout",
       "text": [
        "Image Name                     PID Session Name        Session#    Mem Usage\r\n",
        "========================= ======== ================ =========== ============\r\n",
        "System Idle Process              0 Services                   0         24 K\r\n",
        "System                           4 Services                   0        308 K\r\n",
        "smss.exe                       352 Services                   0      1,396 K\r\n",
        "csrss.exe                      452 Services                   0      6,780 K\r\n",
        "wininit.exe                    536 Services                   0      5,644 K\r\n",
        "csrss.exe                      544 Console                    1     33,684 K\r\n",
        "winlogon.exe                   600 Console                    1      9,860 K\r\n",
        "services.exe                   644 Services                   0     16,932 K\r\n",
        "lsass.exe                      652 Services                   0     27,464 K\r\n",
        "lsm.exe                        660 Services                   0      7,460 K\r\n",
        "svchost.exe                    752 Services                   0     14,448 K\r\n",
        "svchost.exe                    828 Services                   0     15,572 K\r\n",
        "svchost.exe                    920 Services                   0     28,356 K\r\n",
        "svchost.exe                    952 Services                   0     27,080 K\r\n",
        "svchost.exe                    984 Services                   0     26,656 K\r\n",
        "svchost.exe                   1016 Services                   0     58,924 K\r\n",
        "stacsv64.exe                   160 Services                   0      8,320 K\r\n",
        "svchost.exe                   1036 Services                   0     14,536 K\r\n",
        "Prot_srv.exe                  1196 Services                   0     21,428 K\r\n",
        "vpnagent.exe                  1344 Services                   0     13,676 K\r\n",
        "svchost.exe                   1384 Services                   0     35,072 K\r\n",
        "EvtEng.exe                    1504 Services                   0     19,232 K\r\n",
        "ZCfgSvc7.exe                  1600 Services                   0     16,960 K\r\n",
        "spoolsv.exe                   1672 Services                   0     27,328 K\r\n",
        "ac.sharedstore.exe            1704 Services                   0      9,500 K\r\n",
        "HostControlService.exe        1744 Services                   0      5,944 K\r\n",
        "acevents.exe                  1752 Services                   0     13,076 K\r\n",
        "HostStorageService.exe        1776 Services                   0      5,212 K\r\n",
        "svchost.exe                   1796 Services                   0     12,404 K\r\n",
        "svchost.exe                   1840 Services                   0     15,276 K\r\n",
        "armsvc.exe                    1952 Services                   0      4,168 K\r\n",
        "AESTSr64.exe                  1976 Services                   0      3,596 K\r\n",
        "AeXNSAgent.exe                2004 Services                   0      8,660 K\r\n",
        "upeksvr.exe                   2020 Console                    1     14,108 K\r\n",
        "unsecapp.exe                  2052 Services                   0      5,656 K\r\n",
        "WmiPrvSE.exe                  2176 Services                   0     12,228 K\r\n",
        "AgentService.exe              2232 Services                   0     30,308 K\r\n",
        "svchost.exe                   2420 Services                   0     12,900 K\r\n",
        "svchost.exe                   2452 Services                   0     10,444 K\r\n",
        "LGVL600SVC.exe                2636 Services                   0      5,464 K\r\n",
        "schsvc.exe                    2752 Services                   0     49,784 K\r\n",
        "sqlservr.exe                  2820 Services                   0     34,364 K\r\n",
        "o2flash.exe                   2868 Services                   0      4,348 K\r\n",
        "srvany.exe                    2908 Services                   0      3,332 K\r\n",
        "SDIOAssist.exe                2980 Services                   0      5,672 K\r\n",
        "PDFProFiltSrvPP.exe           2252 Services                   0      3,908 K\r\n",
        "pstartSr.exe                  2508 Services                   0      5,304 K\r\n",
        "pg_ctl.exe                    2536 Services                   0      6,312 K\r\n",
        "taskhost.exe                  2552 Console                    1     12,132 K\r\n",
        "radexecd.exe                  3260 Services                   0      5,712 K\r\n",
        "radstgms.exe                  3392 Services                   0      6,792 K\r\n",
        "RegSrvc.exe                   3452 Services                   0      7,716 K\r\n",
        "ccSvcHst.exe                  3484 Services                   0     16,600 K\r\n",
        "postgres.exe                  3496 Services                   0     77,084 K\r\n",
        "conhost.exe                   3504 Services                   0      3,692 K\r\n",
        "sqlwriter.exe                 3556 Services                   0     16,076 K\r\n",
        "svchost.exe                   3576 Services                   0     19,816 K\r\n",
        "tvnserver.exe                 3676 Services                   0      7,640 K\r\n",
        "svchost.exe                   3708 Services                   0     11,992 K\r\n",
        "WLIDSVC.EXE                   3784 Services                   0     15,320 K\r\n",
        "postgres.exe                  3792 Services                   0      6,456 K\r\n",
        "postgres.exe                  4012 Services                   0      7,764 K\r\n",
        "postgres.exe                  4020 Services                   0     17,736 K\r\n",
        "postgres.exe                  4028 Services                   0      7,728 K\r\n",
        "postgres.exe                  4044 Services                   0      8,964 K\r\n",
        "postgres.exe                  4056 Services                   0      6,616 K\r\n",
        "WLIDSVCM.EXE                  3412 Services                   0      4,064 K\r\n",
        "ccSvcHst.exe                  4364 Console                    1      4,252 K\r\n",
        "Smc.exe                       4852 Services                   0     11,416 K\r\n",
        "rundll32.exe                  4876 Console                    1      7,900 K\r\n",
        "svchost.exe                   4668 Services                   0      6,128 K\r\n",
        "AeXNSAgentHostSurrogate32     4200 Services                   0     13,872 K\r\n",
        "WUDFHost.exe                  2528 Services                   0      5,512 K\r\n",
        "AeXAgentUIHost.exe            5408 Console                    1     11,136 K\r\n",
        "dwm.exe                       5948 Console                    1      6,424 K\r\n",
        "explorer.exe                  5988 Console                    1    125,068 K\r\n",
        "acevents.exe                  5348 Console                    1     14,976 K\r\n",
        "accrdsub.exe                  5744 Console                    1     18,880 K\r\n",
        "Apoint.exe                    5816 Console                    1     11,488 K\r\n",
        "iFrmewrk.exe                  5724 Console                    1     23,764 K\r\n",
        "sttray64.exe                  5804 Console                    1     20,584 K\r\n",
        "FF_Protection.exe             2124 Console                    1      8,380 K\r\n",
        "ApMsgFwd.exe                  5984 Console                    1      7,000 K\r\n",
        "tvnserver.exe                 5588 Console                    1      6,048 K\r\n",
        "MSOSYNC.EXE                   6148 Console                    1     13,768 K\r\n",
        "hidfind.exe                   6216 Console                    1      5,616 K\r\n",
        "ApntEx.exe                    6224 Console                    1      6,836 K\r\n",
        "ISUSPM.exe                    6232 Console                    1     25,532 K\r\n",
        "conhost.exe                   6256 Console                    1      5,544 K\r\n",
        "acsagent.exe                  6296 Console                    1     17,572 K\r\n",
        "ONENOTEM.EXE                  6324 Console                    1      1,464 K\r\n",
        "RoxioBurnLauncher.exe         6568 Console                    1     14,168 K\r\n",
        "PDVD9Serv.exe                 6632 Console                    1      5,900 K\r\n",
        "IAStorIcon.exe                6696 Console                    1     25,440 K\r\n",
        "unsecapp.exe                  6756 Console                    1      7,664 K\r\n",
        "schTray.exe                   6832 Console                    1     41,852 K\r\n",
        "cptray.exe                    6848 Console                    1      2,636 K\r\n",
        "P95tray.exe                   6916 Console                    1      9,192 K\r\n",
        "Agent.exe                     6964 Console                    1     86,012 K\r\n",
        "pptd40nt.exe                  7080 Console                    1      5,404 K\r\n",
        "pdfPro5Hook.exe               7100 Console                    1      7,028 K\r\n",
        "BrStMonW.exe                  1288 Console                    1    112,044 K\r\n",
        "BrCtrlCntr.exe                6660 Console                    1      7,932 K\r\n",
        "vpnui.exe                     6720 Console                    1     23,624 K\r\n",
        "BrYNSvc.exe                   6668 Services                   0     10,472 K\r\n",
        "communicator.exe              6812 Console                    1     74,988 K\r\n",
        "EMET_Agent.exe                6784 Console                    1     47,932 K\r\n",
        "SearchIndexer.exe             6888 Services                   0     89,096 K\r\n",
        "BrCcUxSys.exe                 7268 Console                    1      8,092 K\r\n",
        "PrivacyIconClient.exe          716 Console                    1     35,384 K\r\n",
        "LMS.exe                       7896 Services                   0      6,948 K\r\n",
        "UNS.exe                       1536 Services                   0     14,756 K\r\n",
        "UcMapi.exe                    3648 Console                    1     46,916 K\r\n",
        "IAStorDataMgrSvc.exe          5112 Services                   0     20,008 K\r\n",
        "notepad++.exe                 2432 Console                    1     53,848 K\r\n"
       ]
      },
      {
       "output_type": "stream",
       "stream": "stdout",
       "text": [
        "taskhost.exe                  4960 Console                    1      6,404 K\r\n",
        "TGitCache.exe                 4468 Console                    1     15,264 K\r\n",
        "agent.exe                     4272 Console                    1     14,216 K\r\n",
        "ssh-agent.exe                 6980 Console                    1      4,860 K\r\n",
        "OUTLOOK.EXE                   8596 Console                    1    231,728 K\r\n",
        "OSPPSVC.EXE                   8816 Services                   0     13,276 K\r\n",
        "MarkdownPad2.exe              2892 Console                    1    181,904 K\r\n",
        "AwesomiumProcess             11180 Console                    1     45,208 K\r\n",
        "wmpnetwk.exe                 10300 Services                   0     11,628 K\r\n",
        "ielowutil.exe                 8204 Console                    1      1,472 K\r\n",
        "python.exe                    9852 Console                    1     62,920 K\r\n",
        "conhost.exe                   8804 Console                    1      8,772 K\r\n",
        "chrome.exe                    9672 Console                    1    298,872 K\r\n",
        "chrome.exe                    8344 Console                    1    145,576 K\r\n",
        "chrome.exe                    8556 Console                    1    151,364 K\r\n",
        "cmd.exe                       7384 Console                    1      3,648 K\r\n",
        "conhost.exe                  10120 Console                    1      8,908 K\r\n",
        "julia-readline.exe            5032 Console                    1    114,532 K\r\n",
        "chrome.exe                    9696 Console                    1     59,352 K\r\n",
        "chrome.exe                    9044 Console                    1     84,316 K\r\n",
        "chrome.exe                    7372 Console                    1     48,056 K\r\n",
        "chrome.exe                    9988 Console                    1     61,692 K\r\n",
        "chrome.exe                    6652 Console                    1     70,220 K\r\n",
        "WINZIP32.EXE                 10136 Console                    1     66,964 K\r\n",
        "explorer.exe                 10804 Console                    1     35,716 K\r\n",
        "explorer.exe                  7728 Console                    1     50,292 K\r\n",
        "cmd.exe                       6404 Console                    1      3,636 K\r\n",
        "julia-readline.exe            9396 Console                    1    660,364 K\r\n",
        "chrome.exe                    6872 Console                    1     53,784 K\r\n",
        "explorer.exe                  9804 Console                    1     50,892 K\r\n",
        "chrome.exe                    8188 Console                    1     63,388 K\r\n",
        "chrome.exe                    3164 Console                    1     33,072 K\r\n",
        "chrome.exe                   10152 Console                    1     84,604 K\r\n",
        "cmd.exe                       6412 Console                    1      3,580 K\r\n",
        "julia-readline.exe            4068 Console                    1    311,824 K\r\n",
        "GitHub.exe                    8432 Console                    1    169,080 K\r\n",
        "chrome.exe                   12980 Console                    1     68,476 K\r\n",
        "chrome.exe                    9764 Console                    1     71,896 K\r\n",
        "cmd.exe                      12784 Console                    1      3,672 K\r\n",
        "julia-readline.exe            6684 Console                    1    540,232 K\r\n",
        "SearchProtocolHost.exe       11052 Services                   0     10,072 K\r\n",
        "chrome.exe                    3776 Console                    1     62,624 K\r\n",
        "cmd.exe                      11296 Console                    1      3,348 K\r\n",
        "conhost.exe                  11576 Console                    1      8,608 K\r\n",
        "chrome.exe                   13280 Console                    1     42,196 K\r\n",
        "cmd.exe                      13244 Console                    1      3,492 K\r\n",
        "conhost.exe                   1140 Console                    1      8,552 K\r\n",
        "taskeng.exe                  12232 Console                    1      7,184 K\r\n",
        "SearchFilterHost.exe          3600 Services                   0      7,272 K\r\n",
        "WmiPrvSE.exe                 12808 Services                   0      8,392 K\r\n",
        "tasklist.exe                  3280 Console                    1      6,700 K\r\n"
       ]
      }
     ],
     "prompt_number": 45
    },
    {
     "cell_type": "code",
     "collapsed": false,
     "input": [
      "banner = [\"Costs\", \"only\", \"$4.95\"]'  # $ stripped due to substitution"
     ],
     "language": "python",
     "metadata": {},
     "outputs": [
      {
       "metadata": {},
       "output_type": "pyout",
       "prompt_number": 60,
       "text": [
        "1x3 Array{ASCIIString,2}:\n",
        " \"Costs\"  \"only\"  \"4.95\""
       ]
      }
     ],
     "prompt_number": 60
    },
    {
     "cell_type": "code",
     "collapsed": false,
     "input": [
      "banner = [\"Costs\", \"only\", \"\\$4.95\"]'"
     ],
     "language": "python",
     "metadata": {},
     "outputs": [
      {
       "metadata": {},
       "output_type": "pyout",
       "prompt_number": 57,
       "text": [
        "1x3 Array{ASCIIString,2}:\n",
        " \"Costs\"  \"only\"  \"\\$4.95\""
       ]
      }
     ],
     "prompt_number": 57
    },
    {
     "cell_type": "code",
     "collapsed": false,
     "input": [
      "print(banner[3])"
     ],
     "language": "python",
     "metadata": {},
     "outputs": [
      {
       "output_type": "stream",
       "stream": "stdout",
       "text": [
        "$4.95"
       ]
      }
     ],
     "prompt_number": 58
    },
    {
     "cell_type": "code",
     "collapsed": false,
     "input": [
      "banner = split(\"Costs only \\$4.95\")'"
     ],
     "language": "python",
     "metadata": {},
     "outputs": [
      {
       "metadata": {},
       "output_type": "pyout",
       "prompt_number": 59,
       "text": [
        "1x3 Array{String,2}:\n",
        " \"Costs\"  \"only\"  \"\\$4.95\""
       ]
      }
     ],
     "prompt_number": 59
    },
    {
     "cell_type": "code",
     "collapsed": false,
     "input": [
      " brax=split(\"\"\" ' \" ( ) < > { } [ ] \"\"\")'"
     ],
     "language": "python",
     "metadata": {},
     "outputs": [
      {
       "metadata": {},
       "output_type": "pyout",
       "prompt_number": 62,
       "text": [
        "1x10 Array{String,2}:\n",
        " \"'\"  \"\\\"\"  \"(\"  \")\"  \"<\"  \">\"  \"{\"  \"}\"  \"[\"  \"]\""
       ]
      }
     ],
     "prompt_number": 62
    },
    {
     "cell_type": "code",
     "collapsed": false,
     "input": [
      "# no ''' in Julia"
     ],
     "language": "python",
     "metadata": {},
     "outputs": [],
     "prompt_number": 64
    },
    {
     "cell_type": "code",
     "collapsed": false,
     "input": [
      "tags = split(\"LI TABLE TR TD A IMG H1 P\")'"
     ],
     "language": "python",
     "metadata": {},
     "outputs": [
      {
       "metadata": {},
       "output_type": "pyout",
       "prompt_number": 65,
       "text": [
        "1x8 Array{String,2}:\n",
        " \"LI\"  \"TABLE\"  \"TR\"  \"TD\"  \"A\"  \"IMG\"  \"H1\"  \"P\""
       ]
      }
     ],
     "prompt_number": 65
    },
    {
     "cell_type": "code",
     "collapsed": false,
     "input": [
      "sample = split(\"The backslash (\\\\) is often used in regular expressions.\")'"
     ],
     "language": "python",
     "metadata": {},
     "outputs": [
      {
       "metadata": {},
       "output_type": "pyout",
       "prompt_number": 67,
       "text": [
        "1x9 Array{String,2}:\n",
        " \"The\"  \"backslash\"  \"(\\\\)\"  \"is\"  \u2026  \"in\"  \"regular\"  \"expressions.\""
       ]
      }
     ],
     "prompt_number": 67
    },
    {
     "cell_type": "code",
     "collapsed": false,
     "input": [
      "#Julia uses Unicode by default, so no string qualifier is required\n",
      "ships = \"Ni\u00f1a Pinta Santa Mar\u00eda\"\n",
      "split(ships)'"
     ],
     "language": "python",
     "metadata": {},
     "outputs": [
      {
       "metadata": {},
       "output_type": "pyout",
       "prompt_number": 71,
       "text": [
        "1x4 Array{String,2}:\n",
        " \"Ni\u00f1a\"  \"Pinta\"  \"Santa\"  \"Mar\u00eda\""
       ]
      }
     ],
     "prompt_number": 71
    },
    {
     "cell_type": "code",
     "collapsed": false,
     "input": [
      "ships = [u\"Ni\u00f1a\", u\"Pinta\", u\"Santa Mar\u00eda\"]"
     ],
     "language": "python",
     "metadata": {},
     "outputs": [
      {
       "metadata": {},
       "output_type": "pyout",
       "prompt_number": 70,
       "text": [
        "1x4 Array{String,2}:\n",
        " \"Ni\u00f1a\"  \"Pinta\"  \"Santa\"  \"Mar\u00eda\""
       ]
      }
     ],
     "prompt_number": 70
    },
    {
     "cell_type": "markdown",
     "metadata": {},
     "source": [
      "###PLEAC 4.3: Printing a list with commas"
     ]
    },
    {
     "cell_type": "code",
     "collapsed": false,
     "input": [
      "Array{String}"
     ],
     "language": "python",
     "metadata": {},
     "outputs": [
      {
       "metadata": {},
       "output_type": "pyout",
       "prompt_number": 77,
       "text": [
        "Array{String,N}"
       ]
      }
     ],
     "prompt_number": 77
    },
    {
     "cell_type": "code",
     "collapsed": false,
     "input": [
      "length(myarray)"
     ],
     "language": "python",
     "metadata": {},
     "outputs": [
      {
       "metadata": {},
       "output_type": "pyout",
       "prompt_number": 78,
       "text": [
        "3"
       ]
      }
     ],
     "prompt_number": 78
    },
    {
     "cell_type": "code",
     "collapsed": false,
     "input": [
      "#\n",
      "function commify_series2(str_array::Array{Union(String,None)})\n",
      "    n = length(str_array)\n",
      "    println(n)\n",
      "    if n==0 then\n",
      "        return \"\"\n",
      "    elseif n==1 then\n",
      "        return \"$(str_array[1])\"\n",
      "    elseif n==2 then\n",
      "        return \"$(str_array[1]) and $(str_array[2])\"\n",
      "    else\n",
      "       return \"$(join(str_array[1:end-1],\", \")) and $(str_array[end])\"\n",
      "    end\n",
      "end"
     ],
     "language": "python",
     "metadata": {},
     "outputs": [
      {
       "metadata": {},
       "output_type": "pyout",
       "prompt_number": 171,
       "text": [
        "commify_series2 (generic function with 2 methods)"
       ]
      }
     ],
     "prompt_number": 171
    },
    {
     "cell_type": "code",
     "collapsed": false,
     "input": [
      "commify_series([])"
     ],
     "language": "python",
     "metadata": {},
     "outputs": [
      {
       "metadata": {},
       "output_type": "pyout",
       "prompt_number": 172,
       "text": [
        "\"\""
       ]
      }
     ],
     "prompt_number": 172
    },
    {
     "cell_type": "code",
     "collapsed": false,
     "input": [
      "commify_series2([\"red\"])"
     ],
     "language": "python",
     "metadata": {},
     "outputs": [
      {
       "output_type": "stream",
       "stream": "stdout",
       "text": [
        "1"
       ]
      },
      {
       "output_type": "stream",
       "stream": "stdout",
       "text": [
        "\n"
       ]
      },
      {
       "metadata": {},
       "output_type": "pyout",
       "prompt_number": 173,
       "text": [
        "\"red\""
       ]
      }
     ],
     "prompt_number": 173
    },
    {
     "cell_type": "code",
     "collapsed": false,
     "input": [
      "commify_series2([\"red\",\"yellow\"]) "
     ],
     "language": "python",
     "metadata": {},
     "outputs": [
      {
       "output_type": "stream",
       "stream": "stdout",
       "text": [
        "2"
       ]
      },
      {
       "output_type": "stream",
       "stream": "stdout",
       "text": [
        "\n"
       ]
      },
      {
       "metadata": {},
       "output_type": "pyout",
       "prompt_number": 174,
       "text": [
        "\"red and yellow\""
       ]
      }
     ],
     "prompt_number": 174
    },
    {
     "cell_type": "code",
     "collapsed": false,
     "input": [
      "commify_series2([\"red\",\"yellow\",\"green\"])"
     ],
     "language": "python",
     "metadata": {},
     "outputs": [
      {
       "output_type": "stream",
       "stream": "stdout",
       "text": [
        "3"
       ]
      },
      {
       "output_type": "stream",
       "stream": "stdout",
       "text": [
        "\n"
       ]
      },
      {
       "metadata": {},
       "output_type": "pyout",
       "prompt_number": 175,
       "text": [
        "\"red, yellow and green\""
       ]
      }
     ],
     "prompt_number": 175
    },
    {
     "cell_type": "code",
     "collapsed": false,
     "input": [
      "myarray = [\"red\",\"yellow\",\"green\"]'"
     ],
     "language": "python",
     "metadata": {},
     "outputs": [
      {
       "metadata": {},
       "output_type": "pyout",
       "prompt_number": 176,
       "text": [
        "1x3 Array{ASCIIString,2}:\n",
        " \"red\"  \"yellow\"  \"green\""
       ]
      }
     ],
     "prompt_number": 176
    },
    {
     "cell_type": "code",
     "collapsed": false,
     "input": [
      "println( \"I have [$(join(myarray,\", \"))] marbles.\" )"
     ],
     "language": "python",
     "metadata": {},
     "outputs": [
      {
       "output_type": "stream",
       "stream": "stdout",
       "text": [
        "I have [red, yellow, green] marbles."
       ]
      },
      {
       "output_type": "stream",
       "stream": "stdout",
       "text": [
        "\n"
       ]
      }
     ],
     "prompt_number": 177
    },
    {
     "cell_type": "code",
     "collapsed": false,
     "input": [
      "println( \"I have \" * join(myarray,' ') * \" marbles.\" )"
     ],
     "language": "python",
     "metadata": {},
     "outputs": [
      {
       "output_type": "stream",
       "stream": "stdout",
       "text": [
        "I have red yellow green marbles."
       ]
      },
      {
       "output_type": "stream",
       "stream": "stdout",
       "text": [
        "\n"
       ]
      }
     ],
     "prompt_number": 178
    },
    {
     "cell_type": "code",
     "collapsed": false,
     "input": [
      "# commify_series - show proper comma insertion in list output\n",
      "data = {\n",
      "    ( \"just one thing\", ),\n",
      "    ( split(\"Mutt Jeff\") ),\n",
      "    ( split(\"Peter Paul Mary\") ),\n",
      "    ( \"To our parents\", \"Mother Theresa\", \"God\" ),\n",
      "    ( \"pastrami\", \"ham and cheese\", \"peanut butter and jelly\", \"tuna\" ),\n",
      "    ( \"recycle tired, old phrases\", \"ponder big, happy thoughts\" ),\n",
      "    ( \"recycle tired, old phrases\", \"ponder big, happy thoughts\", \"sleep and dream peacefully\" ),\n",
      "    }"
     ],
     "language": "python",
     "metadata": {},
     "outputs": [
      {
       "metadata": {},
       "output_type": "pyout",
       "prompt_number": 182,
       "text": [
        "7-element Array{Any,1}:\n",
        " (\"just one thing\",)                                                                     \n",
        " [\"Mutt\",\"Jeff\"]                                                                         \n",
        " [\"Peter\",\"Paul\",\"Mary\"]                                                                 \n",
        " (\"To our parents\",\"Mother Theresa\",\"God\")                                               \n",
        " (\"pastrami\",\"ham and cheese\",\"peanut butter and jelly\",\"tuna\")                          \n",
        " (\"recycle tired, old phrases\",\"ponder big, happy thoughts\")                             \n",
        " (\"recycle tired, old phrases\",\"ponder big, happy thoughts\",\"sleep and dream peacefully\")"
       ]
      }
     ],
     "prompt_number": 182
    },
    {
     "cell_type": "code",
     "collapsed": false,
     "input": [
      "typeof(data)"
     ],
     "language": "python",
     "metadata": {},
     "outputs": [
      {
       "metadata": {},
       "output_type": "pyout",
       "prompt_number": 183,
       "text": [
        "Array{Any,1}"
       ]
      }
     ],
     "prompt_number": 183
    },
    {
     "cell_type": "code",
     "collapsed": false,
     "input": [
      "function commify_sep(terms)\n",
      "    sep=\", \"\n",
      "    for term in terms\n",
      "        if contains(term,\",\")\n",
      "            sep = \"; \"\n",
      "        end\n",
      "    end   \n",
      "    return sep\n",
      "end"
     ],
     "language": "python",
     "metadata": {},
     "outputs": [
      {
       "metadata": {},
       "output_type": "pyout",
       "prompt_number": 205,
       "text": [
        "commify_sep (generic function with 1 method)"
       ]
      }
     ],
     "prompt_number": 205
    },
    {
     "cell_type": "code",
     "collapsed": false,
     "input": [
      "for item in data\n",
      "    #println(item)\n",
      "    println(\"$(commify_sep(item)).\")\n",
      "end"
     ],
     "language": "python",
     "metadata": {},
     "outputs": [
      {
       "output_type": "stream",
       "stream": "stdout",
       "text": [
        ", ."
       ]
      },
      {
       "output_type": "stream",
       "stream": "stdout",
       "text": [
        "\n",
        ", .\n",
        ", .\n",
        ", .\n",
        ", .\n",
        "; .\n",
        "; .\n"
       ]
      }
     ],
     "prompt_number": 207
    },
    {
     "cell_type": "code",
     "collapsed": false,
     "input": [
      "function commify_series3(terms)\n",
      "    sep = commify_sep(terms)\n",
      "    n=length(terms)\n",
      "    if n==0\n",
      "        return \"\"\n",
      "    elseif n==1\n",
      "        return terms[1]\n",
      "    elseif n==2\n",
      "        return \"$(terms[1]) and $(terms[2])\"\n",
      "    else\n",
      "        return \"$(join(terms[1:end-1],sep))$(sep)and $(terms[end])\"\n",
      "    end\n",
      "end"
     ],
     "language": "python",
     "metadata": {},
     "outputs": [
      {
       "metadata": {},
       "output_type": "pyout",
       "prompt_number": 214,
       "text": [
        "commify_series3 (generic function with 2 methods)"
       ]
      }
     ],
     "prompt_number": 214
    },
    {
     "cell_type": "code",
     "collapsed": false,
     "input": [
      "for item in data\n",
      "    println(\"The list is: $(commify_series3(item)).\")\n",
      "end"
     ],
     "language": "python",
     "metadata": {},
     "outputs": [
      {
       "output_type": "stream",
       "stream": "stdout",
       "text": [
        "The list is: just one thing."
       ]
      },
      {
       "output_type": "stream",
       "stream": "stdout",
       "text": [
        "\n",
        "The list is: Mutt and Jeff.\n",
        "The list is: Peter, Paul, and Mary.\n",
        "The list is: To our parents, Mother Theresa, and God.\n",
        "The list is: pastrami, ham and cheese, peanut butter and jelly, and tuna.\n",
        "The list is: recycle tired, old phrases and ponder big, happy thoughts.\n",
        "The list is: recycle tired, old phrases; ponder big, happy thoughts; and sleep and dream peacefully.\n"
       ]
      }
     ],
     "prompt_number": 215
    },
    {
     "cell_type": "markdown",
     "metadata": {},
     "source": [
      "###PLEAC 4.4: Changing Array Size"
     ]
    },
    {
     "cell_type": "code",
     "collapsed": false,
     "input": [
      "a = Array(Int,5)'"
     ],
     "language": "python",
     "metadata": {},
     "outputs": [
      {
       "metadata": {},
       "output_type": "pyout",
       "prompt_number": 265,
       "text": [
        "1x5 Array{Int64,2}:\n",
        " 61124192  54313088  54313088  52415968  52415968"
       ]
      }
     ],
     "prompt_number": 265
    },
    {
     "cell_type": "code",
     "collapsed": false,
     "input": [
      "#resize via assignment\n",
      "mysize=3\n",
      "a = a[1:mysize]\n",
      "a'"
     ],
     "language": "python",
     "metadata": {},
     "outputs": [
      {
       "metadata": {},
       "output_type": "pyout",
       "prompt_number": 266,
       "text": [
        "1x3 Array{Int64,2}:\n",
        " 61124192  54313088  54313088"
       ]
      }
     ],
     "prompt_number": 266
    },
    {
     "cell_type": "markdown",
     "metadata": {},
     "source": [
      "####methods that change an object in-place usually end with !"
     ]
    },
    {
     "cell_type": "code",
     "collapsed": false,
     "input": [
      "# To add an element to the end of a list, use the push! method:\n",
      "push!(a,4)\n",
      "a'"
     ],
     "language": "python",
     "metadata": {},
     "outputs": [
      {
       "metadata": {},
       "output_type": "pyout",
       "prompt_number": 267,
       "text": [
        "1x4 Array{Int64,2}:\n",
        " 61124192  54313088  54313088  4"
       ]
      }
     ],
     "prompt_number": 267
    },
    {
     "cell_type": "code",
     "collapsed": false,
     "input": [
      "# To insert an element, use the insert! method:\n",
      "insert!(a,1,10)\n",
      "a'"
     ],
     "language": "python",
     "metadata": {},
     "outputs": [
      {
       "metadata": {},
       "output_type": "pyout",
       "prompt_number": 268,
       "text": [
        "1x5 Array{Int64,2}:\n",
        " 10  61124192  54313088  54313088  4"
       ]
      }
     ],
     "prompt_number": 268
    },
    {
     "cell_type": "code",
     "collapsed": false,
     "input": [
      "# To append one list with the contents of another, use the append! method\n",
      "a2 = [ 1,2,3 ]\n",
      "append!(a,a2)\n",
      "a'"
     ],
     "language": "python",
     "metadata": {},
     "outputs": [
      {
       "metadata": {},
       "output_type": "pyout",
       "prompt_number": 269,
       "text": [
        "1x8 Array{Int64,2}:\n",
        " 10  61124192  54313088  54313088  4  1  2  3"
       ]
      }
     ],
     "prompt_number": 269
    },
    {
     "cell_type": "code",
     "collapsed": false,
     "input": [
      "# To insert the contents of one list into another, overwriting zero or \n",
      "# more elements, specify a slice\n",
      "a[2:4] = a2\n",
      "a'"
     ],
     "language": "python",
     "metadata": {},
     "outputs": [
      {
       "metadata": {},
       "output_type": "pyout",
       "prompt_number": 270,
       "text": [
        "1x8 Array{Int64,2}:\n",
        " 10  1  2  3  4  1  2  3"
       ]
      }
     ],
     "prompt_number": 270
    },
    {
     "cell_type": "code",
     "collapsed": false,
     "input": [
      "a[1]=0\n",
      "a[2]=8\n",
      "a'"
     ],
     "language": "python",
     "metadata": {},
     "outputs": [
      {
       "metadata": {},
       "output_type": "pyout",
       "prompt_number": 271,
       "text": [
        "1x8 Array{Int64,2}:\n",
        " 0  8  2  3  4  1  2  3"
       ]
      }
     ],
     "prompt_number": 271
    },
    {
     "cell_type": "code",
     "collapsed": false,
     "input": [
      "# To remove one element from the middle of a list\n",
      "splice!(a,2)"
     ],
     "language": "python",
     "metadata": {},
     "outputs": [
      {
       "metadata": {},
       "output_type": "pyout",
       "prompt_number": 272,
       "text": [
        "8"
       ]
      }
     ],
     "prompt_number": 272
    },
    {
     "cell_type": "code",
     "collapsed": false,
     "input": [
      "a'"
     ],
     "language": "python",
     "metadata": {},
     "outputs": [
      {
       "metadata": {},
       "output_type": "pyout",
       "prompt_number": 273,
       "text": [
        "1x7 Array{Int64,2}:\n",
        " 0  2  3  4  1  2  3"
       ]
      }
     ],
     "prompt_number": 273
    },
    {
     "cell_type": "code",
     "collapsed": false,
     "input": [
      "# To remove elements from the middle of a list:\n",
      "splice!(a,3:5)'"
     ],
     "language": "python",
     "metadata": {},
     "outputs": [
      {
       "metadata": {},
       "output_type": "pyout",
       "prompt_number": 274,
       "text": [
        "1x3 Array{Int64,2}:\n",
        " 3  4  1"
       ]
      }
     ],
     "prompt_number": 274
    },
    {
     "cell_type": "code",
     "collapsed": false,
     "input": [
      "a'"
     ],
     "language": "python",
     "metadata": {},
     "outputs": [
      {
       "metadata": {},
       "output_type": "pyout",
       "prompt_number": 275,
       "text": [
        "1x4 Array{Int64,2}:\n",
        " 0  2  2  3"
       ]
      }
     ],
     "prompt_number": 275
    },
    {
     "cell_type": "code",
     "collapsed": false,
     "input": [
      "function what_about_that_array(terms)\n",
      "    println( \"The list now has $(length(terms)) elements.\")\n",
      "    println( \"The index of the last element is $(length(terms))\" )\n",
      "    println( \"Element #3 is $(terms[3])\" )\n",
      "end"
     ],
     "language": "python",
     "metadata": {},
     "outputs": [
      {
       "metadata": {},
       "output_type": "pyout",
       "prompt_number": 281,
       "text": [
        "what_about_that_array (generic function with 1 method)"
       ]
      }
     ],
     "prompt_number": 281
    },
    {
     "cell_type": "code",
     "collapsed": false,
     "input": [
      "what_about_that_array(a)"
     ],
     "language": "python",
     "metadata": {},
     "outputs": [
      {
       "output_type": "stream",
       "stream": "stdout",
       "text": [
        "The list now has 4 elements."
       ]
      },
      {
       "output_type": "stream",
       "stream": "stdout",
       "text": [
        "\n",
        "The index of the last element is 4\n",
        "Element #3 is 2\n"
       ]
      }
     ],
     "prompt_number": 282
    },
    {
     "cell_type": "code",
     "collapsed": false,
     "input": [
      "terms=a\n",
      "println( \"The index of the last element is $(length(terms))\" )\n"
     ],
     "language": "python",
     "metadata": {},
     "outputs": [
      {
       "output_type": "stream",
       "stream": "stdout",
       "text": [
        "The index of the last element is 4"
       ]
      },
      {
       "output_type": "stream",
       "stream": "stdout",
       "text": [
        "\n"
       ]
      }
     ],
     "prompt_number": 280
    },
    {
     "cell_type": "code",
     "collapsed": false,
     "input": [
      "people = split(\"Crosby Stills Nash Young\")"
     ],
     "language": "python",
     "metadata": {},
     "outputs": [
      {
       "metadata": {},
       "output_type": "pyout",
       "prompt_number": 294,
       "text": [
        "4-element Array{String,1}:\n",
        " \"Crosby\"\n",
        " \"Stills\"\n",
        " \"Nash\"  \n",
        " \"Young\" "
       ]
      }
     ],
     "prompt_number": 294
    },
    {
     "cell_type": "code",
     "collapsed": false,
     "input": [
      "what_about_that_array(people)"
     ],
     "language": "python",
     "metadata": {},
     "outputs": [
      {
       "output_type": "stream",
       "stream": "stdout",
       "text": [
        "The list now has 4 elements."
       ]
      },
      {
       "output_type": "stream",
       "stream": "stdout",
       "text": [
        "\n",
        "The index of the last element is 4\n",
        "Element #3 is Nash\n"
       ]
      }
     ],
     "prompt_number": 295
    },
    {
     "cell_type": "code",
     "collapsed": false,
     "input": [
      "pop!(people)"
     ],
     "language": "python",
     "metadata": {},
     "outputs": [
      {
       "metadata": {},
       "output_type": "pyout",
       "prompt_number": 297,
       "text": [
        "\"Young\""
       ]
      }
     ],
     "prompt_number": 297
    },
    {
     "cell_type": "code",
     "collapsed": false,
     "input": [
      "what_about_that_array(people)"
     ],
     "language": "python",
     "metadata": {},
     "outputs": [
      {
       "output_type": "stream",
       "stream": "stdout",
       "text": [
        "The list now has 3 elements."
       ]
      },
      {
       "output_type": "stream",
       "stream": "stdout",
       "text": [
        "\n",
        "The index of the last element is 3\n",
        "Element #3 is Nash\n"
       ]
      }
     ],
     "prompt_number": 298
    },
    {
     "cell_type": "code",
     "collapsed": false,
     "input": [
      "sz=10000-length(people)\n",
      "xtra=[Nothing for i in 1:sz ]"
     ],
     "language": "python",
     "metadata": {},
     "outputs": [
      {
       "metadata": {},
       "output_type": "pyout",
       "prompt_number": 311,
       "text": [
        "0-element Array{Type{Nothing},1}"
       ]
      }
     ],
     "prompt_number": 311
    },
    {
     "cell_type": "code",
     "collapsed": false,
     "input": [
      "append!(people, xtra);"
     ],
     "language": "python",
     "metadata": {},
     "outputs": [],
     "prompt_number": 312
    },
    {
     "cell_type": "markdown",
     "metadata": {},
     "source": [
      "###PLEAC 4.5 Doing something with every element in an array"
     ]
    },
    {
     "cell_type": "code",
     "collapsed": false,
     "input": [
      "myarray"
     ],
     "language": "python",
     "metadata": {},
     "outputs": [
      {
       "metadata": {},
       "output_type": "pyout",
       "prompt_number": 313,
       "text": [
        "1x3 Array{ASCIIString,2}:\n",
        " \"red\"  \"yellow\"  \"green\""
       ]
      }
     ],
     "prompt_number": 313
    },
    {
     "cell_type": "code",
     "collapsed": false,
     "input": [
      "for item in myarray\n",
      "    pass\n",
      "end"
     ],
     "language": "python",
     "metadata": {},
     "outputs": [],
     "prompt_number": 314
    },
    {
     "cell_type": "code",
     "collapsed": false,
     "input": [
      "for (k,v) = ENV\n",
      "    print( k, v[1:min(length(v),' ',6)], ' ' ) \n",
      "end"
     ],
     "language": "python",
     "metadata": {},
     "outputs": [
      {
       "output_type": "stream",
       "stream": "stdout",
       "text": [
        "C"
       ]
      },
      {
       "output_type": "stream",
       "stream": "stdout",
       "text": [
        ":=C:\\ COLUMNS80 JL_PRIVATE_LIBDIRbin JULIAC:\\Tem JULIA_EDITORstart JULIA_EXEjulia- JULIA_HOMEC:\\Tem LINES30 PROMPT$P$G SYS_PATHc:\\pyt TMPC:\\Use COMPUTERNAMEMM1911 USERDOMAINMITRE BURN_AUTOPLAYC:\\Pro EMC_AUTOPLAYC:\\Pro PSMODULEPATHC:\\Win COMMONPROGRAMFILESC:\\Pro PROCESSOR_IDENTIFIERIntel6 PROGRAMFILESC:\\Pro PROCESSOR_REVISION2a07 GPHOME_CLIENTSC:\\Pro PATHC:\\Tem NUMBER_OF_PROCESSORS8 PROGRAMFILES(X86)C:\\Pro WINDOWS_TRACING_FLAGS3 SSH_AGENT_PID1056 TK_LIBRARYC:\\Pyt PRGC:\\Pro GIT_SSHC:\\Pro TEMPC:\\Use ORACLE_HOMEC:\\Ora COMMONPROGRAMFILES(X86)C:\\Pro PROCESSOR_ARCHITECTUREAMD64 TIX_LIBRARYC:\\Pyt ALLUSERSPROFILEC:\\Pro TNS_ADMINC:\\Ora LOCALAPPDATAC:\\Use HOMEPATH\\Users USERDOMAIN_ROAMINGPROFILEMITRE PROGRAMW6432C:\\Pro USERNAMEKEITHC FP_NO_HOST_CHECKNO LOGONSERVER\\\\MWDC SYSTEMROOTC:\\Win SESSIONNAMEConsol PROGRAMDATAC:\\Pro PYTHONPATHC:\\Pyt SSH_AUTH_SOCK/tmp/s TCL_LIBRARYC:\\Pyt USERDNSDOMAINMITRE. R_HOMEC:\\Pro PATHEXT.COM;. GDAL_DATAC:\\Pro WINDIRC:\\Win WINDOWS_TRACING_LOGFILEC:\\BVT HOMEDRIVEC: RCAUTOPLAYC:\\Pro SYSTEMDRIVEC: P86C:\\Pro COMSPECC:\\Win SVN_SSHC:\\Pro APPDATAC:\\Use PROCESSOR_LEVEL6 COMMONPROGRAMW6432C:\\Pro OSWindow PUBLICC:\\Use VTK_DATA_ROOTC:\\Pyt USERPROFILEC:\\Use "
       ]
      }
     ],
     "prompt_number": 407
    },
    {
     "cell_type": "code",
     "collapsed": false,
     "input": [
      "# skipped examples with get_usage() and who"
     ],
     "language": "python",
     "metadata": {},
     "outputs": [
      {
       "metadata": {},
       "output_type": "pyout",
       "prompt_number": 366,
       "text": [
        "\"80\""
       ]
      }
     ],
     "prompt_number": 366
    },
    {
     "cell_type": "code",
     "collapsed": false,
     "input": [
      "mytext=\"\"\"a frumpily godgered\n",
      "  skillufous banger.\n",
      "  nasbue u oiper \n",
      "  han yty poy\"\"\"\n",
      "fakefile = IOBuffer(mytext)"
     ],
     "language": "python",
     "metadata": {},
     "outputs": [
      {
       "metadata": {},
       "output_type": "pyout",
       "prompt_number": 408,
       "text": [
        "IOBuffer([0x61,0x20,0x66,0x72,0x75,0x6d,0x70,0x69,0x6c,0x79  \u2026  0x61,0x6e,0x20,0x79,0x74,0x79,0x20,0x70,0x6f,0x79],true,false,true,false,66,9223372036854775807,1)"
       ]
      }
     ],
     "prompt_number": 408
    },
    {
     "cell_type": "code",
     "collapsed": false,
     "input": [
      "while ~eof(fakefile)\n",
      " ln=readline(fakefile)\n",
      " words = split(ln)\n",
      " for w in words\n",
      "    print(reverse(w)*\" \")\n",
      " end \n",
      "end"
     ],
     "language": "python",
     "metadata": {},
     "outputs": [
      {
       "output_type": "stream",
       "stream": "stdout",
       "text": [
        "a "
       ]
      },
      {
       "output_type": "stream",
       "stream": "stdout",
       "text": [
        "ylipmurf deregdog suofulliks .regnab eubsan u repio nah yty yop "
       ]
      }
     ],
     "prompt_number": 409
    },
    {
     "cell_type": "code",
     "collapsed": false,
     "input": [
      "data = [1, 2, 3]'"
     ],
     "language": "python",
     "metadata": {},
     "outputs": [
      {
       "metadata": {},
       "output_type": "pyout",
       "prompt_number": 410,
       "text": [
        "1x3 Array{Int64,2}:\n",
        " 1  2  3"
       ]
      }
     ],
     "prompt_number": 410
    },
    {
     "cell_type": "code",
     "collapsed": false,
     "input": [
      "data = [i-1 for i in data]'"
     ],
     "language": "python",
     "metadata": {},
     "outputs": [
      {
       "metadata": {},
       "output_type": "pyout",
       "prompt_number": 411,
       "text": [
        "1x3 Array{Any,2}:\n",
        " 0  1  2"
       ]
      }
     ],
     "prompt_number": 411
    },
    {
     "cell_type": "code",
     "collapsed": false,
     "input": [
      "# skipped final example"
     ],
     "language": "python",
     "metadata": {},
     "outputs": [],
     "prompt_number": 399
    },
    {
     "cell_type": "markdown",
     "metadata": {},
     "source": [
      "### PLEAC 4.6: Iterating over an array by reference"
     ]
    },
    {
     "cell_type": "code",
     "collapsed": false,
     "input": [
      "fruits = [\"Apple\", \"Blackberry\"]\n",
      "for fruit in fruits\n",
      "    println( fruit, \" tastes good in a pie.\")\n",
      "end"
     ],
     "language": "python",
     "metadata": {},
     "outputs": [
      {
       "output_type": "stream",
       "stream": "stdout",
       "text": [
        "Apple"
       ]
      },
      {
       "output_type": "stream",
       "stream": "stdout",
       "text": [
        " tastes good in a pie.\n",
        "Blackberry tastes good in a pie.\n"
       ]
      }
     ],
     "prompt_number": 414
    },
    {
     "cell_type": "code",
     "collapsed": false,
     "input": [
      "# If you must explicitly index, use enumerate():\n",
      "for (i, fruit) in enumerate(fruits)\n",
      "        println( i,' ', fruit, \" tastes good in a pie.\")\n",
      "end"
     ],
     "language": "python",
     "metadata": {},
     "outputs": [
      {
       "output_type": "stream",
       "stream": "stdout",
       "text": [
        "1"
       ]
      },
      {
       "output_type": "stream",
       "stream": "stdout",
       "text": [
        " Apple tastes good in a pie.\n",
        "2 Blackberry tastes good in a pie.\n"
       ]
      }
     ],
     "prompt_number": 419
    },
    {
     "cell_type": "code",
     "collapsed": false,
     "input": [
      "rogue_cats = [\"Morris\", \"Felix\"]\n",
      "namedict = { \"felines\"=> rogue_cats }"
     ],
     "language": "python",
     "metadata": {},
     "outputs": [
      {
       "metadata": {},
       "output_type": "pyout",
       "prompt_number": 421,
       "text": [
        "{\"felines\"=>[\"Morris\",\"Felix\"]}"
       ]
      }
     ],
     "prompt_number": 421
    },
    {
     "cell_type": "code",
     "collapsed": false,
     "input": [
      "for cat in namedict[\"felines\"]\n",
      "    println( cat, \"purrs hypnotically.\")\n",
      "end\n",
      "println( \"--More--\\nYou are controlled.\")"
     ],
     "language": "python",
     "metadata": {},
     "outputs": [
      {
       "output_type": "stream",
       "stream": "stdout",
       "text": [
        "Morris"
       ]
      },
      {
       "output_type": "stream",
       "stream": "stdout",
       "text": [
        "purrs hypnotically.\n",
        "Felixpurrs hypnotically.\n",
        "--More--\n",
        "You are controlled.\n"
       ]
      }
     ],
     "prompt_number": 422
    },
    {
     "cell_type": "markdown",
     "metadata": {},
     "source": [
      "###PLEAC 4.7: Extracting unique elements from a list"
     ]
    },
    {
     "cell_type": "code",
     "collapsed": false,
     "input": [
      "ar=[1,2,2,4,5,6,6]\n",
      "unique(ar)'"
     ],
     "language": "python",
     "metadata": {},
     "outputs": [
      {
       "metadata": {},
       "output_type": "pyout",
       "prompt_number": 424,
       "text": [
        "1x5 Array{Int64,2}:\n",
        " 1  2  4  5  6"
       ]
      }
     ],
     "prompt_number": 424
    },
    {
     "cell_type": "code",
     "collapsed": false,
     "input": [],
     "language": "python",
     "metadata": {},
     "outputs": []
    }
   ],
   "metadata": {}
  }
 ]
}