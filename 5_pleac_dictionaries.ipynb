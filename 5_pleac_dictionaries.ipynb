{
 "metadata": {
  "language": "Julia",
  "name": ""
 },
 "nbformat": 3,
 "nbformat_minor": 0,
 "worksheets": [
  {
   "cells": [
    {
     "cell_type": "markdown",
     "metadata": {},
     "source": [
      "#5. PLEAC Julia: Dictionaries\n",
      "\n",
      "[PLEAC = Language Examples Alike Cookbook](http://pleac.sourceforge.net/)\n",
      "PLEAC examples are drawn from the \"Perl Cookbook\" by Tom Christiansen & Nathan Torkington, published by O'Reilly.  They provide a nice range of examples oriented toward data munging, the type of work I tend to want to do first when learning a new language.\n",
      "\n",
      "\n",
      "The Julia examples below are principally translations from the [Python version](http://pleac.sourceforge.net/pleac_python/)\n",
      "\n",
      "###A Caution\n",
      "I'm learning as I go, so the code below probably doesn't represent best practice.  Your suggestions are welcome! \n",
      "Please file an issue or make a pull request to the [github repo](https://github.com/catawbasam/IJulia_PLEAC/).\n",
      "\n",
      "The examples are not complete. Missing items are generally noted in comments."
     ]
    },
    {
     "cell_type": "markdown",
     "metadata": {},
     "source": [
      "###PLEAC 5.0: Introduction"
     ]
    },
    {
     "cell_type": "code",
     "collapsed": false,
     "input": [
      "#Dict of Any\n",
      "age = {\"Nat\"=> 24,       \"Jules\"=> 24,       \"Josh\"=> 17}"
     ],
     "language": "python",
     "metadata": {},
     "outputs": [
      {
       "metadata": {},
       "output_type": "pyout",
       "prompt_number": 1,
       "text": [
        "{\"Jules\"=>24,\"Josh\"=>17,\"Nat\"=>24}"
       ]
      }
     ],
     "prompt_number": 1
    },
    {
     "cell_type": "code",
     "collapsed": false,
     "input": [
      "#typed Dict-- the type will be inferred\n",
      "age = [\"Nat\"=> 24,       \"Jules\"=> 24,       \"Josh\"=> 17]"
     ],
     "language": "python",
     "metadata": {},
     "outputs": [
      {
       "metadata": {},
       "output_type": "pyout",
       "prompt_number": 2,
       "text": [
        "[\"Jules\"=>24,\"Josh\"=>17,\"Nat\"=>24]"
       ]
      }
     ],
     "prompt_number": 2
    },
    {
     "cell_type": "code",
     "collapsed": false,
     "input": [
      "age=Dict()\n",
      "age[\"Nat\"] = 24\n",
      "age[\"Jules\"] = 25\n",
      "age[\"Josh\"] = 17"
     ],
     "language": "python",
     "metadata": {},
     "outputs": [
      {
       "metadata": {},
       "output_type": "pyout",
       "prompt_number": 20,
       "text": [
        "17"
       ]
      }
     ],
     "prompt_number": 20
    },
    {
     "cell_type": "code",
     "collapsed": false,
     "input": [
      "#in Julia, keys can be Symbols\n",
      "food_color = [:Apple => \"red\",\n",
      "              :Banana=> \"yellow\",\n",
      "              :Lemon => \"yellow\",\n",
      "              :Carrot=> \"orange\"\n",
      "             ]"
     ],
     "language": "python",
     "metadata": {},
     "outputs": [
      {
       "metadata": {},
       "output_type": "pyout",
       "prompt_number": 22,
       "text": [
        "[:Apple=>\"red\",:Carrot=>\"orange\",:Lemon=>\"yellow\",:Banana=>\"yellow\"]"
       ]
      }
     ],
     "prompt_number": 22
    },
    {
     "cell_type": "markdown",
     "metadata": {},
     "source": [
      "###PLEAC 5.1: Adding an element to a dict"
     ]
    },
    {
     "cell_type": "code",
     "collapsed": false,
     "input": [
      "# food_color defined per the introduction\n",
      "food_color[:Raspberry] = \"pink\"\n",
      "print( \"Known foods:\" )\n",
      "for food in food_color\n",
      "    print( food )\n",
      "end"
     ],
     "language": "python",
     "metadata": {},
     "outputs": [
      {
       "output_type": "stream",
       "stream": "stdout",
       "text": [
        "Known foods:"
       ]
      },
      {
       "output_type": "stream",
       "stream": "stdout",
       "text": [
        "(:Apple,\"red\")(:Raspberry,\"pink\")(:Carrot,\"orange\")(:Lemon,\"yellow\")(:Banana,\"yellow\")"
       ]
      }
     ],
     "prompt_number": 24
    },
    {
     "cell_type": "markdown",
     "metadata": {},
     "source": [
      "###PLEAC 5.2: Testing for the presence of a key in a hash\n",
      "\n",
      "does mydict have a value for key?"
     ]
    },
    {
     "cell_type": "code",
     "collapsed": false,
     "input": [
      "key = \"Joe\"\n",
      "haskey(age,key)"
     ],
     "language": "python",
     "metadata": {},
     "outputs": [
      {
       "metadata": {},
       "output_type": "pyout",
       "prompt_number": 25,
       "text": [
        "false"
       ]
      }
     ],
     "prompt_number": 25
    },
    {
     "cell_type": "code",
     "collapsed": false,
     "input": [
      "key=\"Nat\"\n",
      "haskey(age,key)"
     ],
     "language": "python",
     "metadata": {},
     "outputs": [
      {
       "metadata": {},
       "output_type": "pyout",
       "prompt_number": 26,
       "text": [
        "true"
       ]
      }
     ],
     "prompt_number": 26
    },
    {
     "cell_type": "code",
     "collapsed": false,
     "input": [
      "# food_color per the introduction\n",
      "for name in (:Banana, :Martini)\n",
      "    if name in food_color\n",
      "        println(\" $name is a food.\")\n",
      "    else\n",
      "        println( \"$name is a drink.\")\n",
      "    end\n",
      "end"
     ],
     "language": "python",
     "metadata": {},
     "outputs": [
      {
       "output_type": "stream",
       "stream": "stdout",
       "text": [
        "Banana is a drink."
       ]
      },
      {
       "output_type": "stream",
       "stream": "stdout",
       "text": [
        "\n",
        "Martini is a drink.\n"
       ]
      }
     ],
     "prompt_number": 27
    },
    {
     "cell_type": "code",
     "collapsed": false,
     "input": [
      "age = Dict()\n",
      "age[\"Toddler\"] = 3\n",
      "age[\"Unborn\"] = 0\n",
      "age[\"Phantasm\"] = None"
     ],
     "language": "python",
     "metadata": {},
     "outputs": [
      {
       "metadata": {},
       "output_type": "pyout",
       "prompt_number": 42,
       "text": [
        "None"
       ]
      }
     ],
     "prompt_number": 42
    },
    {
     "cell_type": "code",
     "collapsed": false,
     "input": [
      "thing=\"Toddler\"\n",
      "thing ==Nothing"
     ],
     "language": "python",
     "metadata": {},
     "outputs": [
      {
       "metadata": {},
       "output_type": "pyout",
       "prompt_number": 32,
       "text": [
        "false"
       ]
      }
     ],
     "prompt_number": 32
    },
    {
     "cell_type": "code",
     "collapsed": false,
     "input": [
      "for thing in (\"Toddler\", \"Unborn\", \"Phantasm\", \"Relic\")\n",
      "    print(\"\\n$thing: \")\n",
      "    if haskey(age, thing)\n",
      "        print( \"Exists \")\n",
      "        if age[thing] != None\n",
      "            print(\" Defined\")\n",
      "        end\n",
      "        if age[thing]==true\n",
      "            print( \" true\")\n",
      "        end\n",
      "    end\n",
      "    #println()\n",
      "end"
     ],
     "language": "python",
     "metadata": {},
     "outputs": [
      {
       "output_type": "stream",
       "stream": "stdout",
       "text": [
        "\n",
        "Toddler: "
       ]
      },
      {
       "output_type": "stream",
       "stream": "stdout",
       "text": [
        "Exists  Defined\n",
        "Unborn: Exists  Defined\n",
        "Phantasm: Exists \n",
        "Relic: "
       ]
      }
     ],
     "prompt_number": 48
    },
    {
     "cell_type": "code",
     "collapsed": false,
     "input": [
      "#SKIP\n",
      "# Get file sizes for the requested filenames\n",
      "\"\"\"\n",
      "import fileinput, os\n",
      "size = {}\n",
      "for line in fileinput.input():\n",
      "    filename = line.rstrip()\n",
      "    if filename in size:\n",
      "        continue\n",
      "    size[filename] = os.path.getsize(filename)\n",
      "\"\"\""
     ],
     "language": "python",
     "metadata": {},
     "outputs": [
      {
       "output_type": "stream",
       "stream": "stdout",
       "text": [
        "\n"
       ]
      },
      {
       "ename": "LoadError",
       "evalue": "fileinput not defined\nat In[44]:18",
       "output_type": "pyerr",
       "traceback": [
        "fileinput not defined\nat In[44]:18",
        " in anonymous at no file"
       ]
      },
      {
       "output_type": "stream",
       "stream": "stdout",
       "text": [
        "\n"
       ]
      }
     ],
     "prompt_number": 44
    },
    {
     "cell_type": "markdown",
     "metadata": {},
     "source": [
      "###PLEAC 5.3: Delete from a Dict\n",
      "\n",
      "remove key and value from dict"
     ]
    },
    {
     "cell_type": "code",
     "collapsed": false,
     "input": [
      "del(age, \"Nat\")"
     ],
     "language": "python",
     "metadata": {},
     "outputs": []
    },
    {
     "cell_type": "code",
     "collapsed": false,
     "input": [
      "foodstr = [\"carrot\"=>\"orange\", \"lemon\"=>\"yellow\", \n",
      "           \"apple\"=>\"green\", \"banana\"=>\"yellow\"]"
     ],
     "language": "python",
     "metadata": {},
     "outputs": [
      {
       "output_type": "stream",
       "stream": "stdout",
       "text": [
        "\n"
       ]
      },
      {
       "metadata": {},
       "output_type": "pyout",
       "prompt_number": 13,
       "text": [
        "[\"apple\"=>\"green\",\"orange\"=>\"orange\"]"
       ]
      },
      {
       "output_type": "stream",
       "stream": "stdout",
       "text": [
        "\n",
        "\n"
       ]
      },
      {
       "metadata": {},
       "output_type": "pyout",
       "prompt_number": 18,
       "text": [
        "[\"apple\"=>\"green\",\"carrot\"=>\"orange\",\"lemon\"=>\"yellow\",\"banana\"=>\"yellow\"]"
       ]
      }
     ],
     "prompt_number": 18
    },
    {
     "cell_type": "code",
     "collapsed": false,
     "input": [
      "function print_foods()\n",
      "    foods = keys(foodstr)\n",
      "    println(\"Keys: $(join(foods))\")\n",
      "    println(\"Values: $(join(values(foodstr)))\"\n",
      "end"
     ],
     "language": "python",
     "metadata": {},
     "outputs": [
      {
       "output_type": "stream",
       "stream": "stdout",
       "text": [
        "\n"
       ]
      },
      {
       "ename": "LoadError",
       "evalue": "syntax: missing comma or ) in argument list\nat In[14]:5",
       "output_type": "pyerr",
       "traceback": [
        "syntax: missing comma or ) in argument list\nat In[14]:5"
       ]
      }
     ],
     "prompt_number": 14
    },
    {
     "cell_type": "code",
     "collapsed": false,
     "input": [
      "println(\"Initially:\")\n",
      "print_foods()"
     ],
     "language": "python",
     "metadata": {},
     "outputs": [
      {
       "output_type": "stream",
       "stream": "stdout",
       "text": [
        "\n",
        "Initially:\n"
       ]
      },
      {
       "ename": "LoadError",
       "evalue": "print_foods not defined\nat In[15]:2",
       "output_type": "pyerr",
       "traceback": [
        "print_foods not defined\nat In[15]:2"
       ]
      }
     ],
     "prompt_number": 15
    },
    {
     "cell_type": "code",
     "collapsed": false,
     "input": [
      "println(\"\\nWith banana set to nothing\")\n",
      "foodstr[\"banana\"]=nothing\n",
      "print_foods()"
     ],
     "language": "python",
     "metadata": {},
     "outputs": [
      {
       "output_type": "stream",
       "stream": "stdout",
       "text": [
        "\n",
        "\n",
        "\n",
        "With banana set to nothing\n"
       ]
      },
      {
       "ename": "LoadError",
       "evalue": "foodstr not defined\nat In[16]:2",
       "output_type": "pyerr",
       "traceback": [
        "foodstr not defined\nat In[16]:2"
       ]
      }
     ],
     "prompt_number": 16
    },
    {
     "cell_type": "code",
     "collapsed": false,
     "input": [
      "println(\"\\nWith banana deleted\")\n",
      "del( food_color, \"banana\" )\n",
      "print_foods()"
     ],
     "language": "python",
     "metadata": {},
     "outputs": [
      {
       "output_type": "stream",
       "stream": "stdout",
       "text": [
        "\n",
        "\n",
        "\n",
        "With banana deleted\n"
       ]
      },
      {
       "ename": "LoadError",
       "evalue": "del not defined\nat In[17]:2",
       "output_type": "pyerr",
       "traceback": [
        "del not defined\nat In[17]:2"
       ]
      }
     ],
     "prompt_number": 17
    },
    {
     "cell_type": "code",
     "collapsed": false,
     "input": [
      "for key in [\"Banana\", \"Apple\", \"Cabbage\"]\n",
      "    del(foodstr,key)\n",
      "end"
     ],
     "language": "python",
     "metadata": {},
     "outputs": [
      {
       "ename": "LoadError",
       "evalue": "del not defined\nat In[19]:3",
       "output_type": "pyerr",
       "traceback": [
        "del not defined\nat In[19]:3",
        " in anonymous at no file:2"
       ]
      },
      {
       "output_type": "stream",
       "stream": "stdout",
       "text": [
        "\n",
        "\n"
       ]
      }
     ],
     "prompt_number": 19
    },
    {
     "cell_type": "markdown",
     "metadata": {},
     "source": [
      "###PLEAC 5.4: Traversing a dict"
     ]
    },
    {
     "cell_type": "code",
     "collapsed": false,
     "input": [
      "string(:blh)"
     ],
     "language": "python",
     "metadata": {},
     "outputs": [
      {
       "metadata": {},
       "output_type": "pyout",
       "prompt_number": 49,
       "text": [
        "\"blh\""
       ]
      }
     ],
     "prompt_number": 49
    },
    {
     "cell_type": "code",
     "collapsed": false,
     "input": [
      "symbol(\"blh\")"
     ],
     "language": "python",
     "metadata": {},
     "outputs": [
      {
       "metadata": {},
       "output_type": "pyout",
       "prompt_number": 50,
       "text": [
        ":blh"
       ]
      }
     ],
     "prompt_number": 50
    },
    {
     "cell_type": "code",
     "collapsed": false,
     "input": [],
     "language": "python",
     "metadata": {},
     "outputs": []
    }
   ],
   "metadata": {}
  }
 ]
}