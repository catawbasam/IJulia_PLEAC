{
 "metadata": {
  "language": "Julia",
  "name": ""
 },
 "nbformat": 3,
 "nbformat_minor": 0,
 "worksheets": [
  {
   "cells": [
    {
     "cell_type": "markdown",
     "metadata": {},
     "source": [
      "#5. PLEAC Julia: Dictionaries\n",
      "\n",
      "[PLEAC = Language Examples Alike Cookbook](http://pleac.sourceforge.net/)\n",
      "PLEAC examples are drawn from the \"Perl Cookbook\" by Tom Christiansen & Nathan Torkington, published by O'Reilly.  They provide a nice range of examples oriented toward data munging, the type of work I tend to want to do first when learning a new language.\n",
      "\n",
      "\n",
      "The Julia examples below are principally translations from the [Python version](http://pleac.sourceforge.net/pleac_python/)\n",
      "\n",
      "###A Caution\n",
      "I'm learning as I go, so the code below probably doesn't represent best practice.  Your suggestions are welcome! \n",
      "Please file an issue or make a pull request to the [github repo](https://github.com/catawbasam/IJulia_PLEAC/).\n",
      "\n",
      "The examples are not complete. Missing items are generally noted in comments."
     ]
    },
    {
     "cell_type": "markdown",
     "metadata": {},
     "source": [
      "###PLEAC 5.0: Introduction"
     ]
    },
    {
     "cell_type": "code",
     "collapsed": false,
     "input": [
      "#Dict of Any\n",
      "age = {\"Nat\"=> 24,       \"Jules\"=> 24,       \"Josh\"=> 17}"
     ],
     "language": "python",
     "metadata": {},
     "outputs": [
      {
       "metadata": {},
       "output_type": "pyout",
       "prompt_number": 1,
       "text": [
        "{\"Jules\"=>24,\"Josh\"=>17,\"Nat\"=>24}"
       ]
      }
     ],
     "prompt_number": 1
    },
    {
     "cell_type": "code",
     "collapsed": false,
     "input": [
      "#typed Dict-- the type will be inferred\n",
      "age = [\"Nat\"=> 24,       \"Jules\"=> 24,       \"Josh\"=> 17]"
     ],
     "language": "python",
     "metadata": {},
     "outputs": [
      {
       "metadata": {},
       "output_type": "pyout",
       "prompt_number": 2,
       "text": [
        "[\"Jules\"=>24,\"Josh\"=>17,\"Nat\"=>24]"
       ]
      }
     ],
     "prompt_number": 2
    },
    {
     "cell_type": "code",
     "collapsed": false,
     "input": [
      "age=Dict()\n",
      "age[\"Nat\"] = 24\n",
      "age[\"Jules\"] = 25\n",
      "age[\"Josh\"] = 17"
     ],
     "language": "python",
     "metadata": {},
     "outputs": [
      {
       "metadata": {},
       "output_type": "pyout",
       "prompt_number": 20,
       "text": [
        "17"
       ]
      }
     ],
     "prompt_number": 20
    },
    {
     "cell_type": "code",
     "collapsed": false,
     "input": [
      "#in Julia, keys can be Symbols\n",
      "food_color = [:Apple => \"red\",\n",
      "              :Banana=> \"yellow\",\n",
      "              :Lemon => \"yellow\",\n",
      "              :Carrot=> \"orange\"\n",
      "             ]"
     ],
     "language": "python",
     "metadata": {},
     "outputs": [
      {
       "metadata": {},
       "output_type": "pyout",
       "prompt_number": 22,
       "text": [
        "[:Apple=>\"red\",:Carrot=>\"orange\",:Lemon=>\"yellow\",:Banana=>\"yellow\"]"
       ]
      }
     ],
     "prompt_number": 22
    },
    {
     "cell_type": "markdown",
     "metadata": {},
     "source": [
      "###PLEAC 5.1: Adding an element to a Dict"
     ]
    },
    {
     "cell_type": "code",
     "collapsed": false,
     "input": [
      "# food_color defined per the introduction\n",
      "food_color[:Raspberry] = \"pink\"\n",
      "print( \"Known foods:\" )\n",
      "for food in food_color\n",
      "    print( food )\n",
      "end"
     ],
     "language": "python",
     "metadata": {},
     "outputs": [
      {
       "output_type": "stream",
       "stream": "stdout",
       "text": [
        "Known foods:"
       ]
      },
      {
       "output_type": "stream",
       "stream": "stdout",
       "text": [
        "(:Apple,\"red\")(:Raspberry,\"pink\")(:Carrot,\"orange\")(:Lemon,\"yellow\")(:Banana,\"yellow\")"
       ]
      }
     ],
     "prompt_number": 24
    },
    {
     "cell_type": "markdown",
     "metadata": {},
     "source": [
      "###PLEAC 5.2: Testing for the presence of a key in a Dict\n",
      "\n",
      "does dict have a value for key?"
     ]
    },
    {
     "cell_type": "code",
     "collapsed": false,
     "input": [
      "key = \"Joe\"\n",
      "haskey(age,key)"
     ],
     "language": "python",
     "metadata": {},
     "outputs": [
      {
       "metadata": {},
       "output_type": "pyout",
       "prompt_number": 25,
       "text": [
        "false"
       ]
      }
     ],
     "prompt_number": 25
    },
    {
     "cell_type": "code",
     "collapsed": false,
     "input": [
      "key=\"Nat\"\n",
      "haskey(age,key)"
     ],
     "language": "python",
     "metadata": {},
     "outputs": [
      {
       "metadata": {},
       "output_type": "pyout",
       "prompt_number": 26,
       "text": [
        "true"
       ]
      }
     ],
     "prompt_number": 26
    },
    {
     "cell_type": "code",
     "collapsed": false,
     "input": [
      "# food_color per the introduction\n",
      "for name in (:Banana, :Martini)\n",
      "    if name in keys(food_color)\n",
      "        println(\"$name is a food.\")\n",
      "    else\n",
      "        println( \"$name is a drink.\")\n",
      "    end\n",
      "end"
     ],
     "language": "python",
     "metadata": {},
     "outputs": [
      {
       "output_type": "stream",
       "stream": "stdout",
       "text": [
        "Banana is a food."
       ]
      },
      {
       "output_type": "stream",
       "stream": "stdout",
       "text": [
        "\n",
        "Martini is a drink.\n"
       ]
      }
     ],
     "prompt_number": 56
    },
    {
     "cell_type": "code",
     "collapsed": false,
     "input": [
      "age = Dict()\n",
      "age[\"Toddler\"] = 3\n",
      "age[\"Unborn\"] = 0\n",
      "age[\"Phantasm\"] = None"
     ],
     "language": "python",
     "metadata": {},
     "outputs": [
      {
       "metadata": {},
       "output_type": "pyout",
       "prompt_number": 42,
       "text": [
        "None"
       ]
      }
     ],
     "prompt_number": 42
    },
    {
     "cell_type": "code",
     "collapsed": false,
     "input": [
      "thing=\"Toddler\"\n",
      "thing ==Nothing"
     ],
     "language": "python",
     "metadata": {},
     "outputs": [
      {
       "metadata": {},
       "output_type": "pyout",
       "prompt_number": 32,
       "text": [
        "false"
       ]
      }
     ],
     "prompt_number": 32
    },
    {
     "cell_type": "code",
     "collapsed": false,
     "input": [
      "for thing in (\"Toddler\", \"Unborn\", \"Phantasm\", \"Relic\")\n",
      "    print(\"\\n$thing: \")\n",
      "    if haskey(age, thing)\n",
      "        print( \"Exists \")\n",
      "        if age[thing] != None\n",
      "            print(\" Defined\")\n",
      "        end\n",
      "        if age[thing]==true\n",
      "            print( \" true\")\n",
      "        end\n",
      "    end\n",
      "    #println()\n",
      "end"
     ],
     "language": "python",
     "metadata": {},
     "outputs": [
      {
       "output_type": "stream",
       "stream": "stdout",
       "text": [
        "\n",
        "Toddler: "
       ]
      },
      {
       "output_type": "stream",
       "stream": "stdout",
       "text": [
        "Exists  Defined\n",
        "Unborn: Exists  Defined\n",
        "Phantasm: Exists \n",
        "Relic: "
       ]
      }
     ],
     "prompt_number": 48
    },
    {
     "cell_type": "code",
     "collapsed": false,
     "input": [
      "#SKIP\n",
      "# Get file sizes for the requested filenames\n",
      "\"\"\"\n",
      "import fileinput, os\n",
      "size = {}\n",
      "for line in fileinput.input():\n",
      "    filename = line.rstrip()\n",
      "    if filename in size:\n",
      "        continue\n",
      "    size[filename] = os.path.getsize(filename)\n",
      "\"\"\";"
     ],
     "language": "python",
     "metadata": {},
     "outputs": [],
     "prompt_number": 68
    },
    {
     "cell_type": "markdown",
     "metadata": {},
     "source": [
      "###PLEAC 5.3: Delete from a Dict\n",
      "\n",
      "remove key and value from dict"
     ]
    },
    {
     "cell_type": "code",
     "collapsed": false,
     "input": [
      "delete!(age, \"Nat\")"
     ],
     "language": "python",
     "metadata": {},
     "outputs": [
      {
       "metadata": {},
       "output_type": "pyout",
       "prompt_number": 69,
       "text": [
        "{\"Toddler\"=>3,\"Unborn\"=>0,\"Phantasm\"=>None}"
       ]
      }
     ],
     "prompt_number": 69
    },
    {
     "cell_type": "code",
     "collapsed": false,
     "input": [
      "foodstr = {\"carrot\"=>\"orange\", \"lemon\"=>\"yellow\", \n",
      "           \"apple\"=>\"green\", \"banana\"=>\"yellow\"}"
     ],
     "language": "python",
     "metadata": {},
     "outputs": [
      {
       "metadata": {},
       "output_type": "pyout",
       "prompt_number": 74,
       "text": [
        "{\"apple\"=>\"green\",\"carrot\"=>\"orange\",\"lemon\"=>\"yellow\",\"banana\"=>\"yellow\"}"
       ]
      }
     ],
     "prompt_number": 74
    },
    {
     "cell_type": "code",
     "collapsed": false,
     "input": [
      "function print_foods()\n",
      "    foods = keys(foodstr)\n",
      "    println(\"Keys: $(join(foods,' '))\")\n",
      "    println(\"Values: $( join(values(foodstr),' ') )\")\n",
      "end"
     ],
     "language": "python",
     "metadata": {},
     "outputs": [
      {
       "metadata": {},
       "output_type": "pyout",
       "prompt_number": 75,
       "text": [
        "print_foods (generic function with 1 method)"
       ]
      }
     ],
     "prompt_number": 75
    },
    {
     "cell_type": "code",
     "collapsed": false,
     "input": [
      "println(\"Initially:\")\n",
      "print_foods()"
     ],
     "language": "python",
     "metadata": {},
     "outputs": [
      {
       "output_type": "stream",
       "stream": "stdout",
       "text": [
        "Initially:"
       ]
      },
      {
       "output_type": "stream",
       "stream": "stdout",
       "text": [
        "\n",
        "Keys: apple carrot lemon banana\n",
        "Values: green orange yellow yellow\n"
       ]
      }
     ],
     "prompt_number": 76
    },
    {
     "cell_type": "code",
     "collapsed": false,
     "input": [
      "println(\"\\nWith banana set to nothing\")\n",
      "foodstr[\"banana\"]=None  # works for Dict{String,Any}.  for typed Dict, would need a Union(T,None)\n",
      "print_foods()"
     ],
     "language": "python",
     "metadata": {},
     "outputs": [
      {
       "output_type": "stream",
       "stream": "stdout",
       "text": [
        "\n",
        "With banana set to nothing"
       ]
      },
      {
       "output_type": "stream",
       "stream": "stdout",
       "text": [
        "\n",
        "Keys: apple carrot lemon banana\n",
        "Values: green orange yellow None\n"
       ]
      }
     ],
     "prompt_number": 78
    },
    {
     "cell_type": "code",
     "collapsed": false,
     "input": [
      "println(\"\\nWith banana deleted\")\n",
      "delete!( foodstr, \"banana\" )\n",
      "print_foods()"
     ],
     "language": "python",
     "metadata": {},
     "outputs": [
      {
       "output_type": "stream",
       "stream": "stdout",
       "text": [
        "\n",
        "With banana deleted"
       ]
      },
      {
       "output_type": "stream",
       "stream": "stdout",
       "text": [
        "\n",
        "Keys: apple carrot lemon\n",
        "Values: green orange yellow\n"
       ]
      }
     ],
     "prompt_number": 81
    },
    {
     "cell_type": "code",
     "collapsed": false,
     "input": [
      "for key in [\"Banana\", \"apple\", \"Cabbage\"] \n",
      "    delete!(foodstr,key)  #delete!() does not mind getting non-existant keys\n",
      "end\n",
      "foodstr"
     ],
     "language": "python",
     "metadata": {},
     "outputs": [
      {
       "metadata": {},
       "output_type": "pyout",
       "prompt_number": 84,
       "text": [
        "{\"carrot\"=>\"orange\",\"lemon\"=>\"yellow\"}"
       ]
      }
     ],
     "prompt_number": 84
    },
    {
     "cell_type": "markdown",
     "metadata": {},
     "source": [
      "###PLEAC 5.4: Traversing a Dict"
     ]
    },
    {
     "cell_type": "code",
     "collapsed": false,
     "input": [],
     "language": "python",
     "metadata": {},
     "outputs": []
    }
   ],
   "metadata": {}
  }
 ]
}