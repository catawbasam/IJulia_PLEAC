{
 "metadata": {
  "language": "Julia",
  "name": ""
 },
 "nbformat": 3,
 "nbformat_minor": 0,
 "worksheets": [
  {
   "cells": [
    {
     "cell_type": "markdown",
     "metadata": {},
     "source": [
      "#8 PLEAC File Contents"
     ]
    },
    {
     "cell_type": "markdown",
     "metadata": {},
     "source": [
      "##8.0 Introduction"
     ]
    },
    {
     "cell_type": "code",
     "collapsed": false,
     "input": [
      "#make a file\n",
      "contents=\"\"\"Here are\n",
      "a few\n",
      "lines of\n",
      "text content.\"\"\"\n",
      "\n",
      "fo=open(\"julia_file.txt\", \"w\")\n",
      "write(fo, contents)\n",
      "close(fo)"
     ],
     "language": "python",
     "metadata": {},
     "outputs": [],
     "prompt_number": 86
    },
    {
     "cell_type": "code",
     "collapsed": false,
     "input": [
      "fi=open(\"julia_file.txt\", \"r\")\n",
      "for line in readlines(fi)\n",
      "  line = rstrip(line)\n",
      "  size = length(line)\n",
      "  println(size)\n",
      "end\n",
      "close(fi)"
     ],
     "language": "python",
     "metadata": {},
     "outputs": [
      {
       "output_type": "stream",
       "stream": "stdout",
       "text": [
        "8"
       ]
      },
      {
       "output_type": "stream",
       "stream": "stdout",
       "text": [
        "\n",
        "5\n",
        "8\n",
        "13\n"
       ]
      }
     ],
     "prompt_number": 2
    },
    {
     "cell_type": "code",
     "collapsed": false,
     "input": [
      "fi=open(\"julia_file.txt\", \"r\")\n",
      "for line in readlines(fi)\n",
      "  println(length(rstrip(line)))\n",
      "end\n",
      "close(fi)"
     ],
     "language": "python",
     "metadata": {},
     "outputs": [
      {
       "output_type": "stream",
       "stream": "stdout",
       "text": [
        "8"
       ]
      },
      {
       "output_type": "stream",
       "stream": "stdout",
       "text": [
        "\n",
        "5\n",
        "8\n",
        "13\n"
       ]
      }
     ],
     "prompt_number": 3
    },
    {
     "cell_type": "code",
     "collapsed": false,
     "input": [
      "al=readlines(open(\"julia_file.txt\", \"r\"))"
     ],
     "language": "python",
     "metadata": {},
     "outputs": [
      {
       "metadata": {},
       "output_type": "pyout",
       "prompt_number": 4,
       "text": [
        "4-element Array{Any,1}:\n",
        " \"Here are\\n\"   \n",
        " \"a few\\n\"      \n",
        " \"lines of\\n\"   \n",
        " \"text content.\""
       ]
      }
     ],
     "prompt_number": 4
    },
    {
     "cell_type": "code",
     "collapsed": false,
     "input": [
      "t=readall(open(\"julia_file.txt\", \"r\"))"
     ],
     "language": "python",
     "metadata": {},
     "outputs": [
      {
       "metadata": {},
       "output_type": "pyout",
       "prompt_number": 17,
       "text": [
        "\"Here are\\na few\\nlines of\\ntext content.\""
       ]
      }
     ],
     "prompt_number": 17
    },
    {
     "cell_type": "code",
     "collapsed": false,
     "input": [
      "t"
     ],
     "language": "python",
     "metadata": {},
     "outputs": [
      {
       "metadata": {},
       "output_type": "pyout",
       "prompt_number": 18,
       "text": [
        "\"Here are\\na few\\nlines of\\ntext content.\""
       ]
      }
     ],
     "prompt_number": 18
    },
    {
     "cell_type": "code",
     "collapsed": false,
     "input": [
      "w=readdlm(open(\"julia_file.txt\", \"r\"), ' ')[1] #first word"
     ],
     "language": "python",
     "metadata": {},
     "outputs": [
      {
       "metadata": {},
       "output_type": "pyout",
       "prompt_number": 28,
       "text": [
        "\"Here\""
       ]
      }
     ],
     "prompt_number": 28
    },
    {
     "cell_type": "code",
     "collapsed": false,
     "input": [
      "fi=open(\"julia_file.txt2\", \"w\")\n",
      "writedlm(fi, [\"One\",\"Two\",\"Three\"], ' ')\n",
      "close(fi)"
     ],
     "language": "python",
     "metadata": {},
     "outputs": [],
     "prompt_number": 32
    },
    {
     "cell_type": "code",
     "collapsed": false,
     "input": [
      "help(seek)"
     ],
     "language": "python",
     "metadata": {},
     "outputs": [
      {
       "output_type": "stream",
       "stream": "stdout",
       "text": [
        "Base.seek(s, pos)\n",
        "\n",
        "   Seek a stream to the given position."
       ]
      },
      {
       "output_type": "stream",
       "stream": "stdout",
       "text": [
        "\n"
       ]
      }
     ],
     "prompt_number": 47
    },
    {
     "cell_type": "code",
     "collapsed": false,
     "input": [
      "fi=open(\"julia_file.txt\", \"r\")\n",
      "ba=readbytes(fi, 4096)\n",
      "ba'"
     ],
     "language": "python",
     "metadata": {},
     "outputs": [
      {
       "metadata": {},
       "output_type": "pyout",
       "prompt_number": 42,
       "text": [
        "1x37 Array{Uint8,2}:\n",
        " 0x48  0x65  0x72  0x65  0x20  0x61  \u2026  0x6e  0x74  0x65  0x6e  0x74  0x2e"
       ]
      }
     ],
     "prompt_number": 42
    },
    {
     "cell_type": "code",
     "collapsed": false,
     "input": [
      "seek(fi,12)  #seek to byte 12\n",
      "println(\"I'm $(position(fi)) bytes from the start of the file\")"
     ],
     "language": "python",
     "metadata": {},
     "outputs": [
      {
       "output_type": "stream",
       "stream": "stdout",
       "text": [
        "I'm 12 bytes from the start of the file"
       ]
      },
      {
       "output_type": "stream",
       "stream": "stdout",
       "text": [
        "\n"
       ]
      }
     ],
     "prompt_number": 45
    },
    {
     "cell_type": "code",
     "collapsed": false,
     "input": [
      "seekstart(fi) #seek to start\n",
      "seekend(fi) #seek to end"
     ],
     "language": "python",
     "metadata": {},
     "outputs": [
      {
       "metadata": {},
       "output_type": "pyout",
       "prompt_number": 46,
       "text": [
        "IOStream(<file julia_file.txt>)"
       ]
      }
     ],
     "prompt_number": 46
    },
    {
     "cell_type": "code",
     "collapsed": false,
     "input": [
      "seekend(fi)\n",
      "skip(fi, -2)  #relative seek\n",
      "position(fi)"
     ],
     "language": "python",
     "metadata": {},
     "outputs": [
      {
       "metadata": {},
       "output_type": "pyout",
       "prompt_number": 53,
       "text": [
        "35"
       ]
      }
     ],
     "prompt_number": 53
    },
    {
     "cell_type": "code",
     "collapsed": false,
     "input": [
      "position(fi)"
     ],
     "language": "python",
     "metadata": {},
     "outputs": [
      {
       "metadata": {},
       "output_type": "pyout",
       "prompt_number": 51,
       "text": [
        "0"
       ]
      }
     ],
     "prompt_number": 51
    },
    {
     "cell_type": "code",
     "collapsed": false,
     "input": [
      "# NOT IMPLEMENTED:\n",
      "# pos = os.lseek(myfile.fileno(),0,1)  #?? what does this do?"
     ],
     "language": "python",
     "metadata": {},
     "outputs": [],
     "prompt_number": 54
    },
    {
     "cell_type": "markdown",
     "metadata": {},
     "source": [
      "##8.1 Reading Lines with Continuation Characters"
     ]
    },
    {
     "cell_type": "code",
     "collapsed": false,
     "input": [
      "#not implemented"
     ],
     "language": "python",
     "metadata": {},
     "outputs": [],
     "prompt_number": 1
    },
    {
     "cell_type": "markdown",
     "metadata": {},
     "source": [
      "##8.2 Counting Lines (or Paragraphs or Records) in a File"
     ]
    },
    {
     "cell_type": "code",
     "collapsed": false,
     "input": [
      "open(\"julia_file.txt\", \"r\") do fi\n",
      "   lines= readlines(fi)\n",
      "end\n",
      "length(lines)"
     ],
     "language": "python",
     "metadata": {},
     "outputs": [
      {
       "metadata": {},
       "output_type": "pyout",
       "prompt_number": 10,
       "text": [
        "4"
       ]
      }
     ],
     "prompt_number": 10
    },
    {
     "cell_type": "code",
     "collapsed": false,
     "input": [
      "t=readall(open(\"julia_file.txt\", \"r\"))"
     ],
     "language": "python",
     "metadata": {},
     "outputs": [
      {
       "metadata": {},
       "output_type": "pyout",
       "prompt_number": 19,
       "text": [
        "\"Here are\\na few\\nlines of\\ntext content.\""
       ]
      }
     ],
     "prompt_number": 19
    },
    {
     "cell_type": "code",
     "collapsed": false,
     "input": [
      "para_count = length(split(t, \"in\"))"
     ],
     "language": "python",
     "metadata": {},
     "outputs": [
      {
       "metadata": {},
       "output_type": "pyout",
       "prompt_number": 22,
       "text": [
        "2"
       ]
      }
     ],
     "prompt_number": 22
    },
    {
     "cell_type": "markdown",
     "metadata": {},
     "source": [
      "##8.3 Processing Every Word in a File"
     ]
    },
    {
     "cell_type": "code",
     "collapsed": false,
     "input": [
      "#simple word count\n",
      "words=split(t)"
     ],
     "language": "python",
     "metadata": {},
     "outputs": [
      {
       "metadata": {},
       "output_type": "pyout",
       "prompt_number": 24,
       "text": [
        "8-element Array{String,1}:\n",
        " \"Here\"    \n",
        " \"are\"     \n",
        " \"a\"       \n",
        " \"few\"     \n",
        " \"lines\"   \n",
        " \"of\"      \n",
        " \"text\"    \n",
        " \"content.\""
       ]
      }
     ],
     "prompt_number": 24
    },
    {
     "cell_type": "code",
     "collapsed": false,
     "input": [
      "word_dict=Dict()\n",
      "for w in words\n",
      "  word_dict[w] = get(word_dict, w, 0)+1\n",
      "end\n",
      "word_dict"
     ],
     "language": "python",
     "metadata": {},
     "outputs": [
      {
       "metadata": {},
       "output_type": "pyout",
       "prompt_number": 25,
       "text": [
        "{\"text\"=>1,\"content.\"=>1,\"are\"=>1,\"few\"=>1,\"Here\"=>1,\"lines\"=>1,\"of\"=>1,\"a\"=>1}"
       ]
      }
     ],
     "prompt_number": 25
    },
    {
     "cell_type": "markdown",
     "metadata": {},
     "source": [
      "####Cleaner results using TextAnalysis"
     ]
    },
    {
     "cell_type": "code",
     "collapsed": false,
     "input": [
      "using TextAnalysis"
     ],
     "language": "python",
     "metadata": {},
     "outputs": [],
     "prompt_number": 26
    },
    {
     "cell_type": "code",
     "collapsed": false,
     "input": [
      "tokens(Document(t))"
     ],
     "language": "python",
     "metadata": {},
     "outputs": [
      {
       "metadata": {},
       "output_type": "pyout",
       "prompt_number": 27,
       "text": [
        "8-element Array{UTF8String,1}:\n",
        " \"Here\"    \n",
        " \"are\"     \n",
        " \"a\"       \n",
        " \"few\"     \n",
        " \"lines\"   \n",
        " \"of\"      \n",
        " \"text\"    \n",
        " \"content.\""
       ]
      }
     ],
     "prompt_number": 27
    },
    {
     "cell_type": "code",
     "collapsed": false,
     "input": [
      "words=split(remove_punctuation!(Document(t)))  #we could remove numbers too."
     ],
     "language": "python",
     "metadata": {},
     "outputs": [
      {
       "metadata": {},
       "output_type": "pyout",
       "prompt_number": 32,
       "text": [
        "8-element Array{String,1}:\n",
        " \"Here\"   \n",
        " \"are\"    \n",
        " \"a\"      \n",
        " \"few\"    \n",
        " \"lines\"  \n",
        " \"of\"     \n",
        " \"text\"   \n",
        " \"content\""
       ]
      }
     ],
     "prompt_number": 32
    },
    {
     "cell_type": "code",
     "collapsed": false,
     "input": [
      "word_dict=Dict()\n",
      "for w in words\n",
      "  word_dict[w] = get(word_dict, w, 0)+1\n",
      "end\n",
      "word_dict"
     ],
     "language": "python",
     "metadata": {},
     "outputs": [
      {
       "metadata": {},
       "output_type": "pyout",
       "prompt_number": 33,
       "text": [
        "{\"text\"=>1,\"are\"=>1,\"few\"=>1,\"Here\"=>1,\"lines\"=>1,\"content\"=>1,\"of\"=>1,\"a\"=>1}"
       ]
      }
     ],
     "prompt_number": 33
    },
    {
     "cell_type": "code",
     "collapsed": false,
     "input": [
      "#line frequency count\n",
      "lines=readlines(open(\"julia_file.txt\", \"r\"))\n",
      "line_dict=Dict()\n",
      "for w in lines\n",
      "  line_dict[w] = get(line_dict, w, 0)+1\n",
      "end\n",
      "line_dict"
     ],
     "language": "python",
     "metadata": {},
     "outputs": [
      {
       "metadata": {},
       "output_type": "pyout",
       "prompt_number": 34,
       "text": [
        "{\"lines of\\n\"=>1,\"Here are\\n\"=>1,\"a few\\n\"=>1,\"text content.\"=>1}"
       ]
      }
     ],
     "prompt_number": 34
    },
    {
     "cell_type": "markdown",
     "metadata": {},
     "source": [
      "##8.4 Reading a File Backwards by Line or Paragraph"
     ]
    },
    {
     "cell_type": "code",
     "collapsed": false,
     "input": [
      "lines= reverse( readlines(open(\"julia_file.txt\", \"r\")) )"
     ],
     "language": "python",
     "metadata": {},
     "outputs": [
      {
       "metadata": {},
       "output_type": "pyout",
       "prompt_number": 37,
       "text": [
        "4-element Array{Any,1}:\n",
        " \"text content.\"\n",
        " \"lines of\\n\"   \n",
        " \"a few\\n\"      \n",
        " \"Here are\\n\"   "
       ]
      }
     ],
     "prompt_number": 37
    },
    {
     "cell_type": "markdown",
     "metadata": {},
     "source": [
      "##8.5 Trailing a Growing File"
     ]
    },
    {
     "cell_type": "code",
     "collapsed": false,
     "input": [
      "fi=open(\"julia_file.txt\", \"r\")\n",
      "seekend(fi)\n",
      "endpos = position(fi)"
     ],
     "language": "python",
     "metadata": {},
     "outputs": [
      {
       "metadata": {},
       "output_type": "pyout",
       "prompt_number": 42,
       "text": [
        "37"
       ]
      }
     ],
     "prompt_number": 42
    },
    {
     "cell_type": "code",
     "collapsed": false,
     "input": [
      "i=1\n",
      "while i<3 #or while true\n",
      "  sleep(1)\n",
      "  seekend(fi)\n",
      "  if position(fi)>endpos\n",
      "    endpos=position(fi)\n",
      "    println(\"time: $i. new size: $endpos\")\n",
      "  end\n",
      "  i=i+1\n",
      "end"
     ],
     "language": "python",
     "metadata": {},
     "outputs": [],
     "prompt_number": 43
    },
    {
     "cell_type": "code",
     "collapsed": false,
     "input": [
      "close(fi)"
     ],
     "language": "python",
     "metadata": {},
     "outputs": [],
     "prompt_number": 44
    },
    {
     "cell_type": "markdown",
     "metadata": {},
     "source": [
      "##8.6 Picking a Random Line from a File"
     ]
    },
    {
     "cell_type": "code",
     "collapsed": false,
     "input": [
      "lines= reverse( readlines(open(\"julia_file.txt\", \"r\")) )\n",
      "length(lines)"
     ],
     "language": "python",
     "metadata": {},
     "outputs": [
      {
       "metadata": {},
       "output_type": "pyout",
       "prompt_number": 57,
       "text": [
        "4"
       ]
      }
     ],
     "prompt_number": 57
    },
    {
     "cell_type": "code",
     "collapsed": false,
     "input": [
      "pick = rand(1:length(lines))\n",
      "lines[pick]"
     ],
     "language": "python",
     "metadata": {},
     "outputs": [
      {
       "metadata": {},
       "output_type": "pyout",
       "prompt_number": 63,
       "text": [
        "\"a few\\n\""
       ]
      }
     ],
     "prompt_number": 63
    },
    {
     "cell_type": "markdown",
     "metadata": {},
     "source": [
      "##8.7 Randomizing All Lines"
     ]
    },
    {
     "cell_type": "code",
     "collapsed": false,
     "input": [
      "using Distributions"
     ],
     "language": "python",
     "metadata": {},
     "outputs": [
      {
       "output_type": "stream",
       "stream": "stderr",
       "text": [
        "Warning: could not import Base.foldl into NumericExtensions\n"
       ]
      },
      {
       "output_type": "stream",
       "stream": "stderr",
       "text": [
        "Warning: could not import Base.foldr into NumericExtensions\n"
       ]
      }
     ],
     "prompt_number": 64
    },
    {
     "cell_type": "code",
     "collapsed": false,
     "input": [
      "shuffle(lines)"
     ],
     "language": "python",
     "metadata": {},
     "outputs": [
      {
       "metadata": {},
       "output_type": "pyout",
       "prompt_number": 68,
       "text": [
        "4-element Array{Any,1}:\n",
        " \"a few\\n\"      \n",
        " \"Here are\\n\"   \n",
        " \"lines of\\n\"   \n",
        " \"text content.\""
       ]
      }
     ],
     "prompt_number": 68
    },
    {
     "cell_type": "markdown",
     "metadata": {},
     "source": [
      "##8.8 Reading a Particular Line in a File"
     ]
    },
    {
     "cell_type": "code",
     "collapsed": false,
     "input": [
      "DESIRED_LINE=3\n",
      "lines[DESIRED_LINE]"
     ],
     "language": "python",
     "metadata": {},
     "outputs": [
      {
       "metadata": {},
       "output_type": "pyout",
       "prompt_number": 69,
       "text": [
        "\"a few\\n\""
       ]
      }
     ],
     "prompt_number": 69
    },
    {
     "cell_type": "markdown",
     "metadata": {},
     "source": [
      "##8.9 Processing Variable-Length Text Fields"
     ]
    },
    {
     "cell_type": "code",
     "collapsed": false,
     "input": [
      "pattern=\" \"\n",
      "record = lines[1]\n",
      "split(record)"
     ],
     "language": "python",
     "metadata": {},
     "outputs": [
      {
       "metadata": {},
       "output_type": "pyout",
       "prompt_number": 70,
       "text": [
        "2-element Array{String,1}:\n",
        " \"text\"    \n",
        " \"content.\""
       ]
      }
     ],
     "prompt_number": 70
    },
    {
     "cell_type": "markdown",
     "metadata": {},
     "source": [
      "##8.10 Removing the Last Line of a File"
     ]
    },
    {
     "cell_type": "code",
     "collapsed": false,
     "input": [
      "fi=open(\"julia_file.txt\", \"w+\")\n",
      "pos=0\n",
      "for ln in eachline(fi)\n",
      "  prev_pos = pos\n",
      "  pos = position(fi)\n",
      "end\n",
      "close(fi)println(prev_pos)"
     ],
     "language": "python",
     "metadata": {},
     "outputs": [
      {
       "output_type": "stream",
       "stream": "stdout",
       "text": [
        "24"
       ]
      },
      {
       "output_type": "stream",
       "stream": "stdout",
       "text": [
        "\n"
       ]
      }
     ],
     "prompt_number": 80
    },
    {
     "cell_type": "code",
     "collapsed": false,
     "input": [
      "cp(\"julia_file.txt\", \"julia_file2.txt\")\n",
      "fi=open(\"julia_file2.txt\", \"w\")\n",
      "truncate(fi, prev_pos)\n",
      "close(fi)\n",
      "\n",
      "trunc8 = readall(open(\"julia_file.txt\", \"r\"))\n",
      "fo=open(\"julia_file2.txt\", \"w\")\n",
      "write(fo, trunc8[1:prev_pos])\n",
      "close(fo)\n",
      "\n",
      "result = readall(open(\"julia_file2.txt\", \"r\"))\n",
      "result"
     ],
     "language": "python",
     "metadata": {},
     "outputs": [
      {
       "metadata": {},
       "output_type": "pyout",
       "prompt_number": 93,
       "text": [
        "\"Here are\\na few\\nlines of\\n\""
       ]
      }
     ],
     "prompt_number": 93
    },
    {
     "cell_type": "markdown",
     "metadata": {},
     "source": [
      "##8.11 Processing Binary Files"
     ]
    },
    {
     "cell_type": "code",
     "collapsed": false,
     "input": [
      "fi=open(\"julia_file.txt\", \"r\")\n",
      "ba=readbytes(fi)\n",
      "close(fi)\n",
      "ba'"
     ],
     "language": "python",
     "metadata": {},
     "outputs": [
      {
       "metadata": {},
       "output_type": "pyout",
       "prompt_number": 95,
       "text": [
        "1x37 Array{Uint8,2}:\n",
        " 0x48  0x65  0x72  0x65  0x20  0x61  \u2026  0x6e  0x74  0x65  0x6e  0x74  0x2e"
       ]
      }
     ],
     "prompt_number": 95
    },
    {
     "cell_type": "markdown",
     "metadata": {},
     "source": [
      "##8.12 Using Random-Access I/O"
     ]
    },
    {
     "cell_type": "code",
     "collapsed": false,
     "input": [
      "recsize=10\n",
      "recno=2\n",
      "address = recsize * recno\n",
      "fi=open(\"julia_file.txt\", \"r\")\n",
      "seek(fi,address)\n",
      "#there must be a better way...\n",
      "fixrec=readbytes(fi, recsize)\n",
      "println(join([char(v) for v in fixrec]))\n",
      "close(fi)"
     ],
     "language": "python",
     "metadata": {},
     "outputs": [
      {
       "output_type": "stream",
       "stream": "stdout",
       "text": [
        " of\n",
        "text c"
       ]
      },
      {
       "output_type": "stream",
       "stream": "stdout",
       "text": [
        "\n"
       ]
      }
     ],
     "prompt_number": 115
    },
    {
     "cell_type": "markdown",
     "metadata": {},
     "source": [
      "##8.13 Updating a Random-Access File"
     ]
    },
    {
     "cell_type": "code",
     "collapsed": false,
     "input": [],
     "language": "python",
     "metadata": {},
     "outputs": [],
     "prompt_number": 52
    },
    {
     "cell_type": "markdown",
     "metadata": {},
     "source": [
      "##8.14 Reading a String from a Binary File"
     ]
    },
    {
     "cell_type": "code",
     "collapsed": false,
     "input": [],
     "language": "python",
     "metadata": {},
     "outputs": [],
     "prompt_number": 53
    },
    {
     "cell_type": "markdown",
     "metadata": {},
     "source": [
      "##8.15 Reading Fixed-Length Records"
     ]
    },
    {
     "cell_type": "code",
     "collapsed": false,
     "input": [],
     "language": "python",
     "metadata": {},
     "outputs": [],
     "prompt_number": 54
    },
    {
     "cell_type": "markdown",
     "metadata": {},
     "source": [
      "##8.16 Reading Configuration Files"
     ]
    },
    {
     "cell_type": "code",
     "collapsed": false,
     "input": [],
     "language": "python",
     "metadata": {},
     "outputs": [],
     "prompt_number": 55
    },
    {
     "cell_type": "markdown",
     "metadata": {},
     "source": [
      "##8.17 Testing a File for Trustworthiness"
     ]
    },
    {
     "cell_type": "code",
     "collapsed": false,
     "input": [
      "#Will not implement"
     ],
     "language": "python",
     "metadata": {},
     "outputs": [],
     "prompt_number": 56
    },
    {
     "cell_type": "markdown",
     "metadata": {},
     "source": [
      "## Programs"
     ]
    },
    {
     "cell_type": "code",
     "collapsed": false,
     "input": [
      "#Will not implement"
     ],
     "language": "python",
     "metadata": {},
     "outputs": []
    }
   ],
   "metadata": {}
  }
 ]
}