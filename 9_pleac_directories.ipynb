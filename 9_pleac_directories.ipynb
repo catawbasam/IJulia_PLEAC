{
 "metadata": {
  "language": "Julia",
  "name": ""
 },
 "nbformat": 3,
 "nbformat_minor": 0,
 "worksheets": [
  {
   "cells": [
    {
     "cell_type": "markdown",
     "metadata": {},
     "source": [
      "#9 PLEAC Julia: Directories"
     ]
    },
    {
     "cell_type": "markdown",
     "metadata": {},
     "source": [
      "[PLEAC = Language Examples Alike Cookbook](http://pleac.sourceforge.net/)\n",
      "PLEAC examples are drawn from the \"Perl Cookbook\" by Tom Christiansen & Nathan Torkington, published by O'Reilly.  They provide a nice range of examples oriented toward data munging, the type of work I tend to want to do first when learning a new language.\n",
      "\n",
      "\n",
      "The Julia examples below are principally translations from the [Python version](http://pleac.sourceforge.net/pleac_python/)\n",
      "\n",
      "###Caution\n",
      "I'm learning as I go, so the code below probably doesn't represent best practice.  Your suggestions are welcome! \n",
      "Please file an issue or make a pull request to the [github repo](https://github.com/catawbasam/IJulia_PLEAC/).\n",
      "\n",
      "The examples are not complete. Missing items are generally noted in comments. "
     ]
    },
    {
     "cell_type": "markdown",
     "metadata": {},
     "source": [
      "#9.1 Introduction"
     ]
    },
    {
     "cell_type": "code",
     "collapsed": false,
     "input": [
      "#save start path\n",
      "HOME=pwd()\n",
      "#make a file\n",
      "contents=\"\"\"Here are\\na few\\nlines of\\ntext content.\"\"\"\n",
      "open(\"julia_file.txt\", \"w\") do fo\n",
      "  write(fo, contents)\n",
      "end"
     ],
     "language": "python",
     "metadata": {},
     "outputs": [
      {
       "metadata": {},
       "output_type": "pyout",
       "prompt_number": 110,
       "text": [
        "37"
       ]
      }
     ],
     "prompt_number": 110
    },
    {
     "cell_type": "code",
     "collapsed": false,
     "input": [
      "mystat = stat(\"julia_file.txt\")"
     ],
     "language": "python",
     "metadata": {},
     "outputs": [
      {
       "output_type": "stream",
       "stream": "stdout",
       "text": [
        "Stat(mode=100666, size=37)"
       ]
      },
      {
       "metadata": {},
       "output_type": "pyout",
       "prompt_number": 2,
       "text": []
      }
     ],
     "prompt_number": 2
    },
    {
     "cell_type": "code",
     "collapsed": false,
     "input": [
      "dump(mystat)"
     ],
     "language": "python",
     "metadata": {},
     "outputs": [
      {
       "output_type": "stream",
       "stream": "stdout",
       "text": [
        "Stat"
       ]
      },
      {
       "output_type": "stream",
       "stream": "stdout",
       "text": [
        " \n",
        "  device: Uint64 0\n",
        "  inode: Uint64 0\n",
        "  mode: Uint64 33206\n",
        "  nlink: Int64 1\n",
        "  uid: Uint64 0\n",
        "  gid: Uint64 0\n",
        "  rdev: Uint64 0\n",
        "  size: Int64 37\n",
        "  blksize: Int64 0\n",
        "  blocks: Int64 0\n",
        "  mtime: Float64 1.389181948430809e9\n",
        "  ctime: Float64 101449.959148361\n"
       ]
      }
     ],
     "prompt_number": 3
    },
    {
     "cell_type": "code",
     "collapsed": false,
     "input": [
      "_ctime = ctime(\"julia_file.txt\")"
     ],
     "language": "python",
     "metadata": {},
     "outputs": [
      {
       "metadata": {},
       "output_type": "pyout",
       "prompt_number": 4,
       "text": [
        "101449.959148361"
       ]
      }
     ],
     "prompt_number": 4
    },
    {
     "cell_type": "code",
     "collapsed": false,
     "input": [
      "_filesize = filesize(\"julia_file.txt\")"
     ],
     "language": "python",
     "metadata": {},
     "outputs": [
      {
       "metadata": {},
       "output_type": "pyout",
       "prompt_number": 5,
       "text": [
        "37"
       ]
      }
     ],
     "prompt_number": 5
    },
    {
     "cell_type": "code",
     "collapsed": false,
     "input": [
      "#check for text in file\n",
      "#NOT IMPLEMENTED\n",
      "#isfile(\"julia_file.txt\") & _filesize>0 & ???"
     ],
     "language": "python",
     "metadata": {},
     "outputs": [],
     "prompt_number": 9
    },
    {
     "cell_type": "code",
     "collapsed": false,
     "input": [
      "#list files in dir in repl\n",
      "#from IJulia just use ;ls\n",
      "mylist = readdir()'"
     ],
     "language": "python",
     "metadata": {},
     "outputs": [
      {
       "metadata": {},
       "output_type": "pyout",
       "prompt_number": 16,
       "text": [
        "1x29 Array{String,2}:\n",
        " \".git\"  \".gitattributes\"  \".gitignore\"  \u2026  \"test0.csv\"  \"test1.csv\""
       ]
      }
     ],
     "prompt_number": 16
    },
    {
     "cell_type": "markdown",
     "metadata": {},
     "source": [
      "##9.2 Getting and Setting Timestamps"
     ]
    },
    {
     "cell_type": "code",
     "collapsed": false,
     "input": [
      "#readtime  : file atime is not supported\n",
      "writetime = mystat.mtime"
     ],
     "language": "python",
     "metadata": {},
     "outputs": [
      {
       "metadata": {},
       "output_type": "pyout",
       "prompt_number": 24,
       "text": [
        "1.389181948430809e9"
       ]
      }
     ],
     "prompt_number": 24
    },
    {
     "cell_type": "code",
     "collapsed": false,
     "input": [
      "touch(\"julia_test.txt\")"
     ],
     "language": "python",
     "metadata": {},
     "outputs": [],
     "prompt_number": 28
    },
    {
     "cell_type": "markdown",
     "metadata": {},
     "source": [
      "##9.3 Deleting a File"
     ]
    },
    {
     "cell_type": "code",
     "collapsed": false,
     "input": [
      "#make a file\n",
      "contents=\"\"\"Here are\\na few\\nlines of\\ntext content.\"\"\"\n",
      "open(\"julia_tmp.txt\", \"w\") do fo\n",
      "  write(fo, contents)\n",
      "end"
     ],
     "language": "python",
     "metadata": {},
     "outputs": [
      {
       "metadata": {},
       "output_type": "pyout",
       "prompt_number": 15,
       "text": [
        "37"
       ]
      }
     ],
     "prompt_number": 15
    },
    {
     "cell_type": "code",
     "collapsed": false,
     "input": [
      "filename = \"julia_tmp.txt\" \n",
      "#if isfile(filename)\n",
      "try \n",
      "    rm(filename)\n",
      "catch \n",
      "    println(\"couldn't remove file $filename\")\n",
      "end"
     ],
     "language": "python",
     "metadata": {},
     "outputs": [],
     "prompt_number": 16
    },
    {
     "cell_type": "markdown",
     "metadata": {},
     "source": [
      "##9.4 Copying or Moving a File"
     ]
    },
    {
     "cell_type": "code",
     "collapsed": false,
     "input": [
      "cp(\"julia_test.txt\",\"julia_test2.txt\")"
     ],
     "language": "python",
     "metadata": {},
     "outputs": [],
     "prompt_number": 30
    },
    {
     "cell_type": "code",
     "collapsed": false,
     "input": [
      "mv(\"julia_test2.txt\",\"julia_test3.txt\")"
     ],
     "language": "python",
     "metadata": {},
     "outputs": [],
     "prompt_number": 32
    },
    {
     "cell_type": "markdown",
     "metadata": {},
     "source": [
      "##9.5 Recognizing Two Names for the Same File"
     ]
    },
    {
     "cell_type": "code",
     "collapsed": false,
     "input": [
      "# doesn't seem to work with Windows.\n",
      "myfiles = readdir() #just looking within a single directory...\n",
      "seen=Dict()\n",
      "for f in myfiles\n",
      "    mystat = stat(f)\n",
      "    key = (mystat.device, mystat.inode)\n",
      "    if haskey(seen, key)\n",
      "       seen[key] +=1\n",
      "    else\n",
      "        seen[key] = 0\n",
      "    end\n",
      "end\n",
      "seen\n",
      "#dump(mystat)\n",
      "#Stat    device: Uint64 0    inode: Uint64 0"
     ],
     "language": "python",
     "metadata": {},
     "outputs": [
      {
       "metadata": {},
       "output_type": "pyout",
       "prompt_number": 38,
       "text": [
        "{(0x0000000000000000,0x0000000000000000)=>30}"
       ]
      }
     ],
     "prompt_number": 38
    },
    {
     "cell_type": "markdown",
     "metadata": {},
     "source": [
      "##9.6 Processing All Files in a Directory"
     ]
    },
    {
     "cell_type": "code",
     "collapsed": false,
     "input": [
      "fl = {Any}[]\n",
      "for f in readdir()\n",
      "   #do something\n",
      "   print(f)\n",
      "end"
     ],
     "language": "python",
     "metadata": {},
     "outputs": [
      {
       "output_type": "stream",
       "stream": "stdout",
       "text": [
        ".git"
       ]
      },
      {
       "output_type": "stream",
       "stream": "stdout",
       "text": [
        ".gitattributes.gitignore.ipynb_checkpoints1_pleac_string.html1_pleac_string.ipynb2_pleac_numbers.html2_pleac_numbers.ipynb3_pleac_datetime-calendar.html3_pleac_datetime-calendar.ipynb3_pleac_datetime.html3_pleac_datetime.ipynb4_pleac_arrays.html4_pleac_arrays.ipynb5_pleac_dictionaries.html5_pleac_dictionaries.ipynb8_pleac_file_contents.ipynb9_pleac_directories.ipynbbintest.datjulia_file.txtjulia_file.txt2julia_file2.txtjulia_fixed.datjulia_test.txtjulia_test3.txtLICENSE.txtpleac_string.htmlREADME.mdtest.initest0.csvtest1.csv"
       ]
      }
     ],
     "prompt_number": 48
    },
    {
     "cell_type": "markdown",
     "metadata": {},
     "source": [
      "##9.7 Globbing, or Getting a List of Filenames Matching a Pattern\n",
      "TODO: write a nicer glob() function using readdir() + glob=>regex conversion"
     ]
    },
    {
     "cell_type": "code",
     "collapsed": false,
     "input": [
      "@windows_only function wincmd(cmdstr)\n",
      "  \"\"\"run a command in windows\"\"\"\n",
      "  _cmd = `CMD /C $cmdstr`\n",
      "  return readall(_cmd)\n",
      "end"
     ],
     "language": "python",
     "metadata": {},
     "outputs": [
      {
       "metadata": {},
       "output_type": "pyout",
       "prompt_number": 54,
       "text": [
        "wincmd (generic function with 1 method)"
       ]
      }
     ],
     "prompt_number": 54
    },
    {
     "cell_type": "code",
     "collapsed": false,
     "input": [
      "#@readdir(\"*.csv\")\n",
      "run(`CMD /C dir *.csv`) \n"
     ],
     "language": "python",
     "metadata": {},
     "outputs": [
      {
       "output_type": "stream",
       "stream": "stdout",
       "text": [
        " Volume in drive C is WIN7_64\r\n",
        " Volume Serial Number is 0A20-76D1\r\n",
        "\r\n",
        " Directory of c:\\keithc\\julia\\ijulia_pleac\\IJulia_PLEAC\r\n",
        "\r\n"
       ]
      },
      {
       "output_type": "stream",
       "stream": "stdout",
       "text": [
        "10/31/2013  05:54 AM                51 test0.csv\r\n",
        "10/31/2013  05:52 AM                65 test1.csv\r\n",
        "               2 File(s)            116 bytes\r\n",
        "               0 Dir(s)  56,786,563,072 bytes free\r\n"
       ]
      },
      {
       "output_type": "stream",
       "stream": "stdout",
       "text": [
        "\n"
       ]
      }
     ],
     "prompt_number": 53
    },
    {
     "cell_type": "code",
     "collapsed": false,
     "input": [
      "[split(f)[end] for f in split(wincmd(\"dir *.csv\"),\"\\r\\n\")[6:end-3]]"
     ],
     "language": "python",
     "metadata": {},
     "outputs": [
      {
       "metadata": {},
       "output_type": "pyout",
       "prompt_number": 62,
       "text": [
        "2-element Array{String,1}:\n",
        " \"test0.csv\"\n",
        " \"test1.csv\""
       ]
      },
      {
       "output_type": "stream",
       "stream": "stdout",
       "text": [
        "\n"
       ]
      }
     ],
     "prompt_number": 62
    },
    {
     "cell_type": "markdown",
     "metadata": {},
     "source": [
      "##9.8 Processing All Files in a Directory Recursively"
     ]
    },
    {
     "cell_type": "code",
     "collapsed": false,
     "input": [
      "function walk_files(path)\n",
      "    for fn in readdir(path)\n",
      "        if isdir(fn) \n",
      "           walk_files(fn)   \n",
      "        else\n",
      "            println(fn)\n",
      "        end        \n",
      "    end \n",
      "    return\n",
      "end"
     ],
     "language": "python",
     "metadata": {},
     "outputs": [
      {
       "metadata": {},
       "output_type": "pyout",
       "prompt_number": 63,
       "text": [
        "walk_files (generic function with 1 method)"
       ]
      }
     ],
     "prompt_number": 63
    },
    {
     "cell_type": "code",
     "collapsed": false,
     "input": [
      "walk_files(\"C:\\\\keithc\\\\julia\\\\ijulia_default\")"
     ],
     "language": "python",
     "metadata": {},
     "outputs": [
      {
       "output_type": "stream",
       "stream": "stdout",
       "text": [
        "1_pleac_string-checkpoint.ipynb"
       ]
      },
      {
       "output_type": "stream",
       "stream": "stdout",
       "text": [
        "\n",
        "2_pleac_numbers-checkpoint.ipynb\n",
        "3_pleac_datetime-calendar-checkpoint.ipynb\n",
        "3_pleac_datetime-checkpoint.ipynb\n",
        "4_pleac_arrays-checkpoint.ipynb\n",
        "5_pleac_dictionaries-checkpoint.ipynb\n",
        "8_pleac_file_contents-checkpoint.ipynb\n",
        "9_pleac_directories-checkpoint.ipynb\n",
        "Cirrus - Copy.ipynb\n",
        "Cirrus.html\n",
        "Cirrus.ipynb\n",
        "CSV and Text IO.ipynb\n",
        "Dataframes test.ipynb\n",
        "file and system.ipynb\n",
        "Julia 12.ipynb\n",
        "Julia 24.ipynb\n",
        "julia_dataframe_gadfly.ipynb\n",
        "libexpat_test.ipynb\n",
        "SingaporeWeather.html\n",
        "SingaporeWeather.ipynb\n",
        "test2.h5\n",
        "test2.jld\n",
        "test3.jld\n",
        "test_HDF5.jl.ipynb\n",
        "Untitled0.ipynb\n",
        "Untitled1.ipynb\n"
       ]
      }
     ],
     "prompt_number": 65
    },
    {
     "cell_type": "markdown",
     "metadata": {},
     "source": [
      "##9.9 Removing a Directory and Its Contents"
     ]
    },
    {
     "cell_type": "code",
     "collapsed": false,
     "input": [
      "function rmdir_all(absolute_path)\n",
      "   stdir = pwd()\n",
      "   cd(absolute_path)\n",
      "   println(\"rmdir_all: $absolute_path\")\n",
      "   for fn in readdir()\n",
      "        println(fn)\n",
      "        if isdir(fn)\n",
      "           println(\"dir: $fn\")\n",
      "           rmdir_all(fn)   \n",
      "        else\n",
      "           println(\"rm: $fn\")\n",
      "           rm(fn)\n",
      "        end        \n",
      "   end \n",
      "   println(\"finish up\")\n",
      "   cd(\"..\")\n",
      "   println(\"pwd: $(pwd())  rmdir: $absolute_path\")\n",
      "   rmdir(absolute_path) \n",
      "   cd(stdir)\n",
      "end"
     ],
     "language": "python",
     "metadata": {},
     "outputs": [
      {
       "metadata": {},
       "output_type": "pyout",
       "prompt_number": 102,
       "text": [
        "rmdir_all (generic function with 1 method)"
       ]
      }
     ],
     "prompt_number": 102
    },
    {
     "cell_type": "code",
     "collapsed": false,
     "input": [
      "rmdir_all(\"C:\\\\Temp\\\\http%3a%2f%2fcygwin.mirrors.pair.com%2f\")"
     ],
     "language": "python",
     "metadata": {},
     "outputs": [
      {
       "output_type": "stream",
       "stream": "stdout",
       "text": [
        "rmdir_all: C:\\Temp\\http%3a%2f%2fcygwin.mirrors.pair.com%2f"
       ]
      },
      {
       "output_type": "stream",
       "stream": "stdout",
       "text": [
        "\n",
        "release\n",
        "dir: release\n",
        "rmdir_all: release\n",
        "alternatives\n",
        "dir: alternatives\n",
        "rmdir_all: alternatives\n",
        "alternatives-1.3.30c-10.tar.bz2\n",
        "rm: alternatives-1.3.30c-10.tar.bz2\n",
        "finish up\n",
        "pwd: C:\\Temp\\http%3a%2f%2fcygwin.mirrors.pair.com%2f\\release  rmdir: alternatives\n",
        "attr\n",
        "dir: attr\n",
        "rmdir_all: attr\n",
        "libattr1\n",
        "dir: libattr1\n",
        "rmdir_all: libattr1\n",
        "libattr1-2.4.46-1.tar.bz2\n",
        "rm: libattr1-2.4.46-1.tar.bz2\n",
        "finish up\n",
        "pwd: C:\\Temp\\http%3a%2f%2fcygwin.mirrors.pair.com%2f\\release\\attr  rmdir: libattr1\n",
        "finish up\n",
        "pwd: C:\\Temp\\http%3a%2f%2fcygwin.mirrors.pair.com%2f\\release  rmdir: attr\n",
        "autossh\n",
        "dir: autossh\n",
        "rmdir_all: autossh\n",
        "autossh-1.4c-1.tar.bz2\n",
        "rm: autossh-1.4c-1.tar.bz2\n",
        "finish up\n",
        "pwd: C:\\Temp\\http%3a%2f%2fcygwin.mirrors.pair.com%2f\\release  rmdir: autossh\n",
        "base-cygwin\n",
        "dir: base-cygwin\n",
        "rmdir_all: base-cygwin\n",
        "base-cygwin-3.1-1.tar.bz2\n",
        "rm: base-cygwin-3.1-1.tar.bz2\n",
        "finish up\n",
        "pwd: C:\\Temp\\http%3a%2f%2fcygwin.mirrors.pair.com%2f\\release  rmdir: base-cygwin\n",
        "base-files\n",
        "dir: base-files\n",
        "rmdir_all: base-files\n",
        "base-files-4.1-1.tar.bz2\n",
        "rm: base-files-4.1-1.tar.bz2\n",
        "finish up\n",
        "pwd: C:\\Temp\\http%3a%2f%2fcygwin.mirrors.pair.com%2f\\release  rmdir: base-files\n",
        "bash\n",
        "dir: bash\n",
        "rmdir_all: bash\n",
        "bash-4.1.10-4.tar.bz2\n",
        "rm: bash-4.1.10-4.tar.bz2\n",
        "finish up\n",
        "pwd: C:\\Temp\\http%3a%2f%2fcygwin.mirrors.pair.com%2f\\release  rmdir: bash\n",
        "binutils\n",
        "dir: binutils\n",
        "rmdir_all: binutils\n",
        "finish up\n",
        "pwd: C:\\Temp\\http%3a%2f%2fcygwin.mirrors.pair.com%2f\\release  rmdir: binutils\n",
        "bzip2\n",
        "dir: bzip2\n",
        "rmdir_all: bzip2\n",
        "bzip2-1.0.6-2.tar.bz2\n",
        "rm: bzip2-1.0.6-2.tar.bz2\n",
        "libbz2_1\n",
        "dir: libbz2_1\n",
        "rmdir_all: libbz2_1\n",
        "libbz2_1-1.0.6-2.tar.bz2\n",
        "rm: libbz2_1-1.0.6-2.tar.bz2\n",
        "finish up\n",
        "pwd: C:\\Temp\\http%3a%2f%2fcygwin.mirrors.pair.com%2f\\release\\bzip2  rmdir: libbz2_1\n",
        "finish up\n",
        "pwd: C:\\Temp\\http%3a%2f%2fcygwin.mirrors.pair.com%2f\\release  rmdir: bzip2\n",
        "cloog-ppl\n",
        "dir: cloog-ppl\n",
        "rmdir_all: cloog-ppl\n",
        "libcloog0\n",
        "dir: libcloog0\n",
        "rmdir_all: libcloog0\n",
        "libcloog0-0.15.7-1.tar.bz2\n",
        "rm: libcloog0-0.15.7-1.tar.bz2\n",
        "finish up\n",
        "pwd: C:\\Temp\\http%3a%2f%2fcygwin.mirrors.pair.com%2f\\release\\cloog-ppl  rmdir: libcloog0\n",
        "finish up\n",
        "pwd: C:\\Temp\\http%3a%2f%2fcygwin.mirrors.pair.com%2f\\release  rmdir: cloog-ppl\n",
        "coreutils\n",
        "dir: coreutils\n",
        "rmdir_all: coreutils\n",
        "coreutils-8.15-1.tar.bz2\n",
        "rm: coreutils-8.15-1.tar.bz2\n",
        "finish up\n",
        "pwd: C:\\Temp\\http%3a%2f%2fcygwin.mirrors.pair.com%2f\\release  rmdir: coreutils\n",
        "crypt\n",
        "dir: crypt\n",
        "rmdir_all: crypt\n",
        "crypt-1.2-1.tar.bz2\n",
        "rm: crypt-1.2-1.tar.bz2\n",
        "finish up\n",
        "pwd: C:\\Temp\\http%3a%2f%2fcygwin.mirrors.pair.com%2f\\release  rmdir: crypt\n",
        "csih\n",
        "dir: csih\n",
        "rmdir_all: csih\n",
        "csih-0.9.6-1.tar.bz2\n",
        "rm: csih-0.9.6-1.tar.bz2\n",
        "finish up\n",
        "pwd: C:\\Temp\\http%3a%2f%2fcygwin.mirrors.pair.com%2f\\release  rmdir: csih\n",
        "cygrunsrv\n",
        "dir: cygrunsrv\n",
        "rmdir_all: cygrunsrv\n",
        "cygrunsrv-1.40-2.tar.bz2\n",
        "rm: cygrunsrv-1.40-2.tar.bz2\n",
        "finish up\n",
        "pwd: C:\\Temp\\http%3a%2f%2fcygwin.mirrors.pair.com%2f\\release  rmdir: cygrunsrv\n",
        "cygutils\n",
        "dir: cygutils\n",
        "rmdir_all: cygutils\n",
        "cygutils-1.4.10-2.tar.bz2\n",
        "rm: cygutils-1.4.10-2.tar.bz2\n",
        "finish up\n",
        "pwd: C:\\Temp\\http%3a%2f%2fcygwin.mirrors.pair.com%2f\\release  rmdir: cygutils\n",
        "cygwin\n",
        "dir: cygwin\n",
        "rmdir_all: cygwin\n",
        "cygwin-1.7.17-1.tar.bz2\n",
        "rm: cygwin-1.7.17-1.tar.bz2\n",
        "finish up\n",
        "pwd: C:\\Temp\\http%3a%2f%2fcygwin.mirrors.pair.com%2f\\release  rmdir: cygwin\n",
        "cygwin-doc\n",
        "dir: cygwin-doc\n",
        "rmdir_all: cygwin-doc\n",
        "cygwin-doc-1.7-1.tar.bz2\n",
        "rm: cygwin-doc-1.7-1.tar.bz2\n",
        "finish up\n",
        "pwd: C:\\Temp\\http%3a%2f%2fcygwin.mirrors.pair.com%2f\\release  rmdir: cygwin-doc\n",
        "dash\n",
        "dir: dash\n",
        "rmdir_all: dash\n",
        "dash-0.5.7-1.tar.bz2\n",
        "rm: dash-0.5.7-1.tar.bz2\n",
        "finish up\n",
        "pwd: C:\\Temp\\http%3a%2f%2fcygwin.mirrors.pair.com%2f\\release  rmdir: dash\n",
        "diffutils\n",
        "dir: diffutils\n",
        "rmdir_all: diffutils\n",
        "diffutils-3.2-1.tar.bz2\n",
        "rm: diffutils-3.2-1.tar.bz2\n",
        "finish up\n",
        "pwd: C:\\Temp\\http%3a%2f%2fcygwin.mirrors.pair.com%2f\\release  rmdir: diffutils\n",
        "dos2unix\n",
        "dir: dos2unix\n",
        "rmdir_all: dos2unix\n",
        "dos2unix-6.0.3-1.tar.bz2\n",
        "rm: dos2unix-6.0.3-1.tar.bz2\n",
        "finish up\n",
        "pwd: C:\\Temp\\http%3a%2f%2fcygwin.mirrors.pair.com%2f\\release  rmdir: dos2unix\n",
        "e2fsprogs\n",
        "dir: e2fsprogs\n",
        "rmdir_all: e2fsprogs\n",
        "libcom_err2\n",
        "dir: libcom_err2\n",
        "rmdir_all: libcom_err2\n",
        "libcom_err2-1.42.6-1.tar.bz2\n",
        "rm: libcom_err2-1.42.6-1.tar.bz2\n",
        "finish up\n",
        "pwd: C:\\Temp\\http%3a%2f%2fcygwin.mirrors.pair.com%2f\\release\\e2fsprogs  rmdir: libcom_err2\n",
        "finish up\n",
        "pwd: C:\\Temp\\http%3a%2f%2fcygwin.mirrors.pair.com%2f\\release  rmdir: e2fsprogs\n",
        "editrights\n",
        "dir: editrights\n",
        "rmdir_all: editrights\n",
        "editrights-1.01-2.tar.bz2\n",
        "rm: editrights-1.01-2.tar.bz2\n",
        "finish up\n",
        "pwd: C:\\Temp\\http%3a%2f%2fcygwin.mirrors.pair.com%2f\\release  rmdir: editrights\n",
        "file\n",
        "dir: file\n",
        "rmdir_all: file\n",
        "file-5.11-1.tar.bz2\n",
        "rm: file-5.11-1.tar.bz2\n",
        "finish up\n",
        "pwd: C:\\Temp\\http%3a%2f%2fcygwin.mirrors.pair.com%2f\\release  rmdir: file\n",
        "findutils\n",
        "dir: findutils\n",
        "rmdir_all: findutils\n",
        "findutils-4.5.9-2.tar.bz2\n",
        "rm: findutils-4.5.9-2.tar.bz2\n",
        "finish up\n",
        "pwd: C:\\Temp\\http%3a%2f%2fcygwin.mirrors.pair.com%2f\\release  rmdir: findutils\n",
        "gawk\n",
        "dir: gawk\n",
        "rmdir_all: gawk\n",
        "gawk-4.0.2-1.tar.bz2\n",
        "rm: gawk-4.0.2-1.tar.bz2\n",
        "finish up\n",
        "pwd: C:\\Temp\\http%3a%2f%2fcygwin.mirrors.pair.com%2f\\release  rmdir: gawk\n",
        "gcc\n",
        "dir: gcc\n",
        "rmdir_all: gcc\n",
        "gcc-core\n",
        "dir: gcc-core\n",
        "rmdir_all: gcc-core\n",
        "gcc-core-3.4.4-999.tar.bz2\n",
        "rm: gcc-core-3.4.4-999.tar.bz2\n",
        "finish up\n",
        "pwd: C:\\Temp\\http%3a%2f%2fcygwin.mirrors.pair.com%2f\\release\\gcc  rmdir: gcc-core\n",
        "gcc-g++\n",
        "dir: gcc-g++\n",
        "rmdir_all: gcc-g++\n",
        "gcc-g++-3.4.4-999.tar.bz2\n",
        "rm: gcc-g++-3.4.4-999.tar.bz2\n",
        "finish up\n",
        "pwd: C:\\Temp\\http%3a%2f%2fcygwin.mirrors.pair.com%2f\\release\\gcc  rmdir: gcc-g++\n",
        "gcc-g77\n",
        "dir: gcc-g77\n",
        "rmdir_all: gcc-g77\n",
        "gcc-g77-3.4.4-999.tar.bz2\n",
        "rm: gcc-g77-3.4.4-999.tar.bz2\n",
        "finish up\n",
        "pwd: C:\\Temp\\http%3a%2f%2fcygwin.mirrors.pair.com%2f\\release\\gcc  rmdir: gcc-g77\n",
        "finish up\n",
        "pwd: C:\\Temp\\http%3a%2f%2fcygwin.mirrors.pair.com%2f\\release  rmdir: gcc\n",
        "gcc-mingw\n",
        "dir: gcc-mingw\n",
        "rmdir_all: gcc-mingw\n",
        "gcc-mingw-core\n",
        "dir: gcc-mingw-core\n",
        "rmdir_all: gcc-mingw-core\n",
        "gcc-mingw-core-20050522-3.tar.bz2\n",
        "rm: gcc-mingw-core-20050522-3.tar.bz2\n",
        "finish up\n",
        "pwd: C:\\Temp\\http%3a%2f%2fcygwin.mirrors.pair.com%2f\\release\\gcc-mingw  rmdir: gcc-mingw-core\n",
        "gcc-mingw-g++\n",
        "dir: gcc-mingw-g++\n",
        "rmdir_all: gcc-mingw-g++\n",
        "gcc-mingw-g++-20050522-3.tar.bz2\n",
        "rm: gcc-mingw-g++-20050522-3.tar.bz2\n",
        "finish up\n",
        "pwd: C:\\Temp\\http%3a%2f%2fcygwin.mirrors.pair.com%2f\\release\\gcc-mingw  rmdir: gcc-mingw-g++\n",
        "gcc-mingw-g77\n",
        "dir: gcc-mingw-g77\n",
        "rmdir_all: gcc-mingw-g77\n",
        "gcc-mingw-g77-20050522-3.tar.bz2\n",
        "rm: gcc-mingw-g77-20050522-3.tar.bz2\n",
        "finish up\n",
        "pwd: C:\\Temp\\http%3a%2f%2fcygwin.mirrors.pair.com%2f\\release\\gcc-mingw  rmdir: gcc-mingw-g77\n",
        "finish up\n",
        "pwd: C:\\Temp\\http%3a%2f%2fcygwin.mirrors.pair.com%2f\\release  rmdir: gcc-mingw\n",
        "gcc4\n",
        "dir: gcc4\n",
        "rmdir_all: gcc4\n",
        "gcc4-core\n",
        "dir: gcc4-core\n",
        "rmdir_all: gcc4-core\n",
        "finish up\n",
        "pwd: C:\\Temp\\http%3a%2f%2fcygwin.mirrors.pair.com%2f\\release\\gcc4  rmdir: gcc4-core\n",
        "gcc4-g++\n",
        "dir: gcc4-g++\n",
        "rmdir_all: gcc4-g++\n",
        "gcc4-g++-4.5.3-3.tar.bz2\n",
        "rm: gcc4-g++-4.5.3-3.tar.bz2\n",
        "finish up\n",
        "pwd: C:\\Temp\\http%3a%2f%2fcygwin.mirrors.pair.com%2f\\release\\gcc4  rmdir: gcc4-g++\n",
        "libffi4\n",
        "dir: libffi4\n",
        "rmdir_all: libffi4\n",
        "libffi4-4.5.3-3.tar.bz2\n",
        "rm: libffi4-4.5.3-3.tar.bz2\n",
        "finish up\n",
        "pwd: C:\\Temp\\http%3a%2f%2fcygwin.mirrors.pair.com%2f\\release\\gcc4  rmdir: libffi4\n",
        "libgcc1\n",
        "dir: libgcc1\n",
        "rmdir_all: libgcc1\n",
        "libgcc1-4.5.3-3.tar.bz2\n",
        "rm: libgcc1-4.5.3-3.tar.bz2\n",
        "finish up\n",
        "pwd: C:\\Temp\\http%3a%2f%2fcygwin.mirrors.pair.com%2f\\release\\gcc4  rmdir: libgcc1\n",
        "libgomp1\n",
        "dir: libgomp1"
       ]
      },
      {
       "output_type": "stream",
       "stream": "stdout",
       "text": [
        "\n",
        "rmdir_all: libgomp1\n",
        "libgomp1-4.5.3-3.tar.bz2\n",
        "rm: libgomp1-4.5.3-3.tar.bz2\n",
        "finish up\n",
        "pwd: C:\\Temp\\http%3a%2f%2fcygwin.mirrors.pair.com%2f\\release\\gcc4  rmdir: libgomp1\n",
        "libssp0\n",
        "dir: libssp0\n",
        "rmdir_all: libssp0\n",
        "libssp0-4.5.3-3.tar.bz2\n",
        "rm: libssp0-4.5.3-3.tar.bz2\n",
        "finish up\n",
        "pwd: C:\\Temp\\http%3a%2f%2fcygwin.mirrors.pair.com%2f\\release\\gcc4  rmdir: libssp0\n",
        "libstdc++6\n",
        "dir: libstdc++6\n",
        "rmdir_all: libstdc++6\n",
        "libstdc++6-4.5.3-3.tar.bz2\n",
        "rm: libstdc++6-4.5.3-3.tar.bz2\n",
        "finish up\n",
        "pwd: C:\\Temp\\http%3a%2f%2fcygwin.mirrors.pair.com%2f\\release\\gcc4  rmdir: libstdc++6\n",
        "libstdc++6-devel\n",
        "dir: libstdc++6-devel\n",
        "rmdir_all: libstdc++6-devel\n",
        "libstdc++6-devel-4.5.3-3.tar.bz2\n",
        "rm: libstdc++6-devel-4.5.3-3.tar.bz2\n",
        "finish up\n",
        "pwd: C:\\Temp\\http%3a%2f%2fcygwin.mirrors.pair.com%2f\\release\\gcc4  rmdir: libstdc++6-devel\n",
        "finish up\n",
        "pwd: C:\\Temp\\http%3a%2f%2fcygwin.mirrors.pair.com%2f\\release  rmdir: gcc4\n",
        "gettext\n",
        "dir: gettext\n",
        "rmdir_all: gettext\n",
        "gettext-0.18.1.1-2.tar.bz2\n",
        "rm: gettext-0.18.1.1-2.tar.bz2\n",
        "libintl3\n",
        "dir: libintl3\n",
        "rmdir_all: libintl3\n",
        "libintl3-0.14.5-1.tar.bz2\n",
        "rm: libintl3-0.14.5-1.tar.bz2\n",
        "finish up\n",
        "pwd: C:\\Temp\\http%3a%2f%2fcygwin.mirrors.pair.com%2f\\release\\gettext  rmdir: libintl3\n",
        "libintl8\n",
        "dir: libintl8\n",
        "rmdir_all: libintl8\n",
        "libintl8-0.18.1.1-2.tar.bz2\n",
        "rm: libintl8-0.18.1.1-2.tar.bz2\n",
        "finish up\n",
        "pwd: C:\\Temp\\http%3a%2f%2fcygwin.mirrors.pair.com%2f\\release\\gettext  rmdir: libintl8\n",
        "finish up\n",
        "pwd: C:\\Temp\\http%3a%2f%2fcygwin.mirrors.pair.com%2f\\release  rmdir: gettext\n",
        "gmp\n",
        "dir: gmp\n",
        "rmdir_all: gmp\n",
        "libgmp3\n",
        "dir: libgmp3\n",
        "rmdir_all: libgmp3\n",
        "libgmp3-4.3.2-1.tar.bz2\n",
        "rm: libgmp3-4.3.2-1.tar.bz2\n",
        "finish up\n",
        "pwd: C:\\Temp\\http%3a%2f%2fcygwin.mirrors.pair.com%2f\\release\\gmp  rmdir: libgmp3\n",
        "libgmpxx4\n",
        "dir: libgmpxx4\n",
        "rmdir_all: libgmpxx4\n",
        "libgmpxx4-4.3.2-1.tar.bz2\n",
        "rm: libgmpxx4-4.3.2-1.tar.bz2\n",
        "finish up\n",
        "pwd: C:\\Temp\\http%3a%2f%2fcygwin.mirrors.pair.com%2f\\release\\gmp  rmdir: libgmpxx4\n",
        "finish up\n",
        "pwd: C:\\Temp\\http%3a%2f%2fcygwin.mirrors.pair.com%2f\\release  rmdir: gmp\n",
        "grep\n",
        "dir: grep\n",
        "rmdir_all: grep\n",
        "grep-2.6.3-1.tar.bz2\n",
        "rm: grep-2.6.3-1.tar.bz2\n",
        "finish up\n",
        "pwd: C:\\Temp\\http%3a%2f%2fcygwin.mirrors.pair.com%2f\\release  rmdir: grep\n",
        "groff\n",
        "dir: groff\n",
        "rmdir_all: groff\n",
        "groff-1.21-2.tar.bz2\n",
        "rm: groff-1.21-2.tar.bz2\n",
        "finish up\n",
        "pwd: C:\\Temp\\http%3a%2f%2fcygwin.mirrors.pair.com%2f\\release  rmdir: groff\n",
        "gzip\n",
        "dir: gzip\n",
        "rmdir_all: gzip\n",
        "gzip-1.4-1.tar.bz2\n",
        "rm: gzip-1.4-1.tar.bz2\n",
        "finish up\n",
        "pwd: C:\\Temp\\http%3a%2f%2fcygwin.mirrors.pair.com%2f\\release  rmdir: gzip\n",
        "heimdal\n",
        "dir: heimdal\n",
        "rmdir_all: heimdal\n",
        "libasn1_8\n",
        "dir: libasn1_8\n",
        "rmdir_all: libasn1_8\n",
        "libasn1_8-1.5.2-4.tar.bz2\n",
        "rm: libasn1_8-1.5.2-4.tar.bz2\n",
        "finish up\n",
        "pwd: C:\\Temp\\http%3a%2f%2fcygwin.mirrors.pair.com%2f\\release\\heimdal  rmdir: libasn1_8\n",
        "libgssapi3\n",
        "dir: libgssapi3\n",
        "rmdir_all: libgssapi3\n",
        "libgssapi3-1.5.2-4.tar.bz2\n",
        "rm: libgssapi3-1.5.2-4.tar.bz2\n",
        "finish up\n",
        "pwd: C:\\Temp\\http%3a%2f%2fcygwin.mirrors.pair.com%2f\\release\\heimdal  rmdir: libgssapi3\n",
        "libheimbase1\n",
        "dir: libheimbase1\n",
        "rmdir_all: libheimbase1\n",
        "libheimbase1-1.5.2-4.tar.bz2\n",
        "rm: libheimbase1-1.5.2-4.tar.bz2\n",
        "finish up\n",
        "pwd: C:\\Temp\\http%3a%2f%2fcygwin.mirrors.pair.com%2f\\release\\heimdal  rmdir: libheimbase1\n",
        "libheimntlm0\n",
        "dir: libheimntlm0\n",
        "rmdir_all: libheimntlm0\n",
        "libheimntlm0-1.5.2-4.tar.bz2\n",
        "rm: libheimntlm0-1.5.2-4.tar.bz2\n",
        "finish up\n",
        "pwd: C:\\Temp\\http%3a%2f%2fcygwin.mirrors.pair.com%2f\\release\\heimdal  rmdir: libheimntlm0\n",
        "libhx509_5\n",
        "dir: libhx509_5\n",
        "rmdir_all: libhx509_5\n",
        "libhx509_5-1.5.2-4.tar.bz2\n",
        "rm: libhx509_5-1.5.2-4.tar.bz2\n",
        "finish up\n",
        "pwd: C:\\Temp\\http%3a%2f%2fcygwin.mirrors.pair.com%2f\\release\\heimdal  rmdir: libhx509_5\n",
        "libkafs0\n",
        "dir: libkafs0\n",
        "rmdir_all: libkafs0\n",
        "libkafs0-1.5.2-4.tar.bz2\n",
        "rm: libkafs0-1.5.2-4.tar.bz2\n",
        "finish up\n",
        "pwd: C:\\Temp\\http%3a%2f%2fcygwin.mirrors.pair.com%2f\\release\\heimdal  rmdir: libkafs0\n",
        "libkrb5_26\n",
        "dir: libkrb5_26\n",
        "rmdir_all: libkrb5_26\n",
        "libkrb5_26-1.5.2-4.tar.bz2\n",
        "rm: libkrb5_26-1.5.2-4.tar.bz2\n",
        "finish up\n",
        "pwd: C:\\Temp\\http%3a%2f%2fcygwin.mirrors.pair.com%2f\\release\\heimdal  rmdir: libkrb5_26\n",
        "libroken18\n",
        "dir: libroken18\n",
        "rmdir_all: libroken18\n",
        "libroken18-1.5.2-4.tar.bz2\n",
        "rm: libroken18-1.5.2-4.tar.bz2\n",
        "finish up\n",
        "pwd: C:\\Temp\\http%3a%2f%2fcygwin.mirrors.pair.com%2f\\release\\heimdal  rmdir: libroken18\n",
        "libwind0\n",
        "dir: libwind0\n",
        "rmdir_all: libwind0\n",
        "libwind0-1.5.2-4.tar.bz2\n",
        "rm: libwind0-1.5.2-4.tar.bz2\n",
        "finish up\n",
        "pwd: C:\\Temp\\http%3a%2f%2fcygwin.mirrors.pair.com%2f\\release\\heimdal  rmdir: libwind0\n",
        "finish up\n",
        "pwd: C:\\Temp\\http%3a%2f%2fcygwin.mirrors.pair.com%2f\\release  rmdir: heimdal\n",
        "ipc-utils\n",
        "dir: ipc-utils\n",
        "rmdir_all: ipc-utils\n",
        "ipc-utils-1.0-1.tar.bz2\n",
        "rm: ipc-utils-1.0-1.tar.bz2\n",
        "finish up\n",
        "pwd: C:\\Temp\\http%3a%2f%2fcygwin.mirrors.pair.com%2f\\release  rmdir: ipc-utils\n",
        "less\n",
        "dir: less\n",
        "rmdir_all: less\n",
        "less-444-1.tar.bz2\n",
        "rm: less-444-1.tar.bz2\n",
        "finish up\n",
        "pwd: C:\\Temp\\http%3a%2f%2fcygwin.mirrors.pair.com%2f\\release  rmdir: less\n",
        "libedit\n",
        "dir: libedit\n",
        "rmdir_all: libedit\n",
        "libedit0\n",
        "dir: libedit0\n",
        "rmdir_all: libedit0\n",
        "libedit0-20120311-1.tar.bz2\n",
        "rm: libedit0-20120311-1.tar.bz2\n",
        "finish up\n",
        "pwd: C:\\Temp\\http%3a%2f%2fcygwin.mirrors.pair.com%2f\\release\\libedit  rmdir: libedit0\n",
        "finish up\n",
        "pwd: C:\\Temp\\http%3a%2f%2fcygwin.mirrors.pair.com%2f\\release  rmdir: libedit\n",
        "libiconv\n",
        "dir: libiconv\n",
        "rmdir_all: libiconv\n",
        "libiconv2\n",
        "dir: libiconv2\n",
        "rmdir_all: libiconv2\n",
        "libiconv2-1.14-2.tar.bz2\n",
        "rm: libiconv2-1.14-2.tar.bz2\n",
        "finish up\n",
        "pwd: C:\\Temp\\http%3a%2f%2fcygwin.mirrors.pair.com%2f\\release\\libiconv  rmdir: libiconv2\n",
        "finish up\n",
        "pwd: C:\\Temp\\http%3a%2f%2fcygwin.mirrors.pair.com%2f\\release  rmdir: libiconv\n",
        "libssh2\n",
        "dir: libssh2\n",
        "rmdir_all: libssh2\n",
        "libssh2-devel\n",
        "dir: libssh2-devel\n",
        "rmdir_all: libssh2-devel\n",
        "libssh2-devel-1.4.2-1.tar.bz2\n",
        "rm: libssh2-devel-1.4.2-1.tar.bz2\n",
        "finish up\n",
        "pwd: C:\\Temp\\http%3a%2f%2fcygwin.mirrors.pair.com%2f\\release\\libssh2  rmdir: libssh2-devel\n",
        "libssh2_1\n",
        "dir: libssh2_1\n",
        "rmdir_all: libssh2_1\n",
        "libssh2_1-1.4.2-1.tar.bz2\n",
        "rm: libssh2_1-1.4.2-1.tar.bz2\n",
        "finish up\n",
        "pwd: C:\\Temp\\http%3a%2f%2fcygwin.mirrors.pair.com%2f\\release\\libssh2  rmdir: libssh2_1\n",
        "finish up\n",
        "pwd: C:\\Temp\\http%3a%2f%2fcygwin.mirrors.pair.com%2f\\release  rmdir: libssh2\n",
        "llvm\n",
        "dir: llvm\n",
        "rmdir_all: llvm\n",
        "clang\n",
        "dir: clang\n",
        "rmdir_all: clang\n",
        "clang-3.1-3.tar.bz2\n",
        "rm: clang-3.1-3.tar.bz2\n",
        "finish up\n",
        "pwd: C:\\Temp\\http%3a%2f%2fcygwin.mirrors.pair.com%2f\\release\\llvm  rmdir: clang\n",
        "libclang\n",
        "dir: libclang\n",
        "rmdir_all: libclang\n",
        "libclang-3.1-3.tar.bz2\n",
        "rm: libclang-3.1-3.tar.bz2\n",
        "finish up\n",
        "pwd: C:\\Temp\\http%3a%2f%2fcygwin.mirrors.pair.com%2f\\release\\llvm  rmdir: libclang\n",
        "libllvm3.1\n",
        "dir: libllvm3.1\n",
        "rmdir_all: libllvm3.1\n",
        "libllvm3.1-3.1-3.tar.bz2\n",
        "rm: libllvm3.1-3.1-3.tar.bz2\n",
        "finish up\n",
        "pwd: C:\\Temp\\http%3a%2f%2fcygwin.mirrors.pair.com%2f\\release\\llvm  rmdir: libllvm3.1\n",
        "finish up\n",
        "pwd: C:\\Temp\\http%3a%2f%2fcygwin.mirrors.pair.com%2f\\release  rmdir: llvm\n",
        "login\n",
        "dir: login\n",
        "rmdir_all: login\n",
        "login-1.10-10.tar.bz2\n",
        "rm: login-1.10-10.tar.bz2\n",
        "finish up\n",
        "pwd: C:\\Temp\\http%3a%2f%2fcygwin.mirrors.pair.com%2f\\release  rmdir: login\n",
        "man\n",
        "dir: man\n",
        "rmdir_all: man\n",
        "man-1.6g-1.tar.bz2\n",
        "rm: man-1.6g-1.tar.bz2\n",
        "finish up\n",
        "pwd: C:\\Temp\\http%3a%2f%2fcygwin.mirrors.pair.com%2f\\release  rmdir: man\n",
        "mingw\n",
        "dir: mingw\n",
        "rmdir_all: mingw\n",
        "mingw-runtime\n",
        "dir: mingw-runtime\n",
        "rmdir_all: mingw-runtime\n",
        "mingw-runtime-3.20-1.tar.bz2\n",
        "rm: mingw-runtime-3.20-1.tar.bz2\n",
        "finish up\n",
        "pwd: C:\\Temp\\http%3a%2f%2fcygwin.mirrors.pair.com%2f\\release\\mingw  rmdir: mingw-runtime\n",
        "mingw-w32api\n",
        "dir: mingw-w32api\n",
        "rmdir_all: mingw-w32api\n",
        "mingw-w32api-3.17-2.tar.bz2\n",
        "rm: mingw-w32api-3.17-2.tar.bz2\n",
        "finish up\n",
        "pwd: C:\\Temp\\http%3a%2f%2fcygwin.mirrors.pair.com%2f\\release\\mingw  rmdir: mingw-w32api\n",
        "finish up\n",
        "pwd: C:\\Temp\\http%3a%2f%2fcygwin.mirrors.pair.com%2f\\release  rmdir: mingw\n",
        "mintty\n",
        "dir: mintty\n",
        "rmdir_all: mintty\n",
        "mintty-1.1.2-1.tar.bz2\n",
        "rm: mintty-1.1.2-1.tar.bz2\n",
        "finish up\n",
        "pwd: C:\\Temp\\http%3a%2f%2fcygwin.mirrors.pair.com%2f\\release  rmdir: mintty\n",
        "mpclib\n",
        "dir: mpclib\n",
        "rmdir_all: mpclib\n",
        "libmpc1\n",
        "dir: libmpc1\n",
        "rmdir_all: libmpc1\n",
        "libmpc1-0.8-1.tar.bz2\n",
        "rm: libmpc1-0.8-1.tar.bz2\n",
        "finish up\n",
        "pwd: C:\\Temp\\http%3a%2f%2fcygwin.mirrors.pair.com%2f\\release\\mpclib  rmdir: libmpc1\n",
        "finish up\n",
        "pwd: C:\\Temp\\http%3a%2f%2fcygwin.mirrors.pair.com%2f\\release  rmdir: mpclib\n",
        "mpfr\n",
        "dir: mpfr\n",
        "rmdir_all: mpfr\n",
        "libmpfr1\n",
        "dir: libmpfr1\n",
        "rmdir_all: libmpfr1\n",
        "libmpfr1-2.4.1-4.tar.bz2\n",
        "rm: libmpfr1-2.4.1-4.tar.bz2\n",
        "finish up\n",
        "pwd: C:\\Temp\\http%3a%2f%2fcygwin.mirrors.pair.com%2f\\release\\mpfr  rmdir: libmpfr1\n",
        "libmpfr4\n",
        "dir: libmpfr4\n",
        "rmdir_all: libmpfr4\n",
        "libmpfr4-3.0.1-1.tar.bz2\n",
        "rm: libmpfr4-3.0.1-1.tar.bz2\n",
        "finish up\n",
        "pwd: C:\\Temp\\http%3a%2f%2fcygwin.mirrors.pair.com%2f\\release\\mpfr  rmdir: libmpfr4\n",
        "finish up\n",
        "pwd: C:\\Temp\\http%3a%2f%2fcygwin.mirrors.pair.com%2f\\release  rmdir: mpfr\n",
        "ncurses\n",
        "dir: ncurses\n",
        "rmdir_all: ncurses\n",
        "libncurses10\n",
        "dir: libncurses10\n",
        "rmdir_all: libncurses10\n",
        "libncurses10-5.7-18.tar.bz2\n",
        "rm: libncurses10-5.7-18.tar.bz2\n",
        "finish up\n",
        "pwd: C:\\Temp\\http%3a%2f%2fcygwin.mirrors.pair.com%2f\\release\\ncurses  rmdir: libncurses10\n",
        "finish up\n",
        "pwd: C:\\Temp\\http%3a%2f%2fcygwin.mirrors.pair.com%2f\\release  rmdir: ncurses\n",
        "ncursesw\n",
        "dir: ncursesw\n",
        "rmdir_all: ncursesw\n",
        "libncursesw10\n",
        "dir: libncursesw10\n",
        "rmdir_all: libncursesw10\n",
        "libncursesw10-5.7-18.tar.bz2\n",
        "rm: libncursesw10-5.7-18.tar.bz2\n",
        "finish up\n",
        "pwd: C:\\Temp\\http%3a%2f%2fcygwin.mirrors.pair.com%2f\\release\\ncursesw  rmdir: libncursesw10\n",
        "finish up\n",
        "pwd: C:\\Temp\\http%3a%2f%2fcygwin.mirrors.pair.com%2f\\release  rmdir: ncursesw\n",
        "openssh\n",
        "dir: openssh\n",
        "rmdir_all: openssh\n",
        "openssh-6.1p1-1.tar.bz2\n",
        "rm: openssh-6.1p1-1.tar.bz2\n",
        "finish up\n",
        "pwd: C:\\Temp\\http%3a%2f%2fcygwin.mirrors.pair.com%2f\\release  rmdir: openssh\n",
        "openssl\n",
        "dir: openssl\n",
        "rmdir_all: openssl\n",
        "libopenssl100\n",
        "dir: libopenssl100\n",
        "rmdir_all: libopenssl100\n",
        "libopenssl100-1.0.1e-2.tar.bz2\n",
        "rm: libopenssl100-1.0.1e-2.tar.bz2\n"
       ]
      },
      {
       "output_type": "stream",
       "stream": "stdout",
       "text": [
        "finish up\n",
        "pwd: C:\\Temp\\http%3a%2f%2fcygwin.mirrors.pair.com%2f\\release\\openssl  rmdir: libopenssl100\n",
        "openssl-1.0.1e-2.tar.bz2\n",
        "rm: openssl-1.0.1e-2.tar.bz2\n",
        "openssl-devel\n",
        "dir: openssl-devel\n",
        "rmdir_all: openssl-devel\n",
        "openssl-devel-1.0.1e-2.tar.bz2\n",
        "rm: openssl-devel-1.0.1e-2.tar.bz2\n",
        "finish up\n",
        "pwd: C:\\Temp\\http%3a%2f%2fcygwin.mirrors.pair.com%2f\\release\\openssl  rmdir: openssl-devel\n",
        "finish up\n",
        "pwd: C:\\Temp\\http%3a%2f%2fcygwin.mirrors.pair.com%2f\\release  rmdir: openssl\n",
        "pcre\n",
        "dir: pcre\n",
        "rmdir_all: pcre\n",
        "libpcre0\n",
        "dir: libpcre0\n",
        "rmdir_all: libpcre0\n",
        "libpcre0-8.21-2.tar.bz2\n",
        "rm: libpcre0-8.21-2.tar.bz2\n",
        "finish up\n",
        "pwd: C:\\Temp\\http%3a%2f%2fcygwin.mirrors.pair.com%2f\\release\\pcre  rmdir: libpcre0\n",
        "finish up\n",
        "pwd: C:\\Temp\\http%3a%2f%2fcygwin.mirrors.pair.com%2f\\release  rmdir: pcre\n",
        "popt\n",
        "dir: popt\n",
        "rmdir_all: popt\n",
        "libpopt0\n",
        "dir: libpopt0\n",
        "rmdir_all: libpopt0\n",
        "libpopt0-1.6.4-4.tar.bz2\n",
        "rm: libpopt0-1.6.4-4.tar.bz2\n",
        "finish up\n",
        "pwd: C:\\Temp\\http%3a%2f%2fcygwin.mirrors.pair.com%2f\\release\\popt  rmdir: libpopt0\n",
        "finish up\n",
        "pwd: C:\\Temp\\http%3a%2f%2fcygwin.mirrors.pair.com%2f\\release  rmdir: popt\n",
        "ppl\n",
        "dir: ppl\n",
        "rmdir_all: ppl\n",
        "libppl\n",
        "dir: libppl\n",
        "rmdir_all: libppl\n",
        "libppl-0.10.2-1.tar.bz2\n",
        "rm: libppl-0.10.2-1.tar.bz2\n",
        "finish up\n",
        "pwd: C:\\Temp\\http%3a%2f%2fcygwin.mirrors.pair.com%2f\\release\\ppl  rmdir: libppl\n",
        "finish up\n",
        "pwd: C:\\Temp\\http%3a%2f%2fcygwin.mirrors.pair.com%2f\\release  rmdir: ppl\n",
        "readline\n",
        "dir: readline\n",
        "rmdir_all: readline\n",
        "libreadline7\n",
        "dir: libreadline7\n",
        "rmdir_all: libreadline7\n",
        "libreadline7-6.1.2-3.tar.bz2\n",
        "rm: libreadline7-6.1.2-3.tar.bz2\n",
        "finish up\n",
        "pwd: C:\\Temp\\http%3a%2f%2fcygwin.mirrors.pair.com%2f\\release\\readline  rmdir: libreadline7\n",
        "finish up\n",
        "pwd: C:\\Temp\\http%3a%2f%2fcygwin.mirrors.pair.com%2f\\release  rmdir: readline\n",
        "rebase\n",
        "dir: rebase\n",
        "rmdir_all: rebase\n",
        "rebase-4.4.0-1.tar.bz2\n",
        "rm: rebase-4.4.0-1.tar.bz2\n",
        "finish up\n",
        "pwd: C:\\Temp\\http%3a%2f%2fcygwin.mirrors.pair.com%2f\\release  rmdir: rebase\n",
        "run\n",
        "dir: run\n",
        "rmdir_all: run\n",
        "run-1.1.13-1.tar.bz2\n",
        "rm: run-1.1.13-1.tar.bz2\n",
        "finish up\n",
        "pwd: C:\\Temp\\http%3a%2f%2fcygwin.mirrors.pair.com%2f\\release  rmdir: run\n",
        "sed\n",
        "dir: sed\n",
        "rmdir_all: sed\n",
        "sed-4.2.1-2.tar.bz2\n",
        "rm: sed-4.2.1-2.tar.bz2\n",
        "finish up\n",
        "pwd: C:\\Temp\\http%3a%2f%2fcygwin.mirrors.pair.com%2f\\release  rmdir: sed\n",
        "sqlite3\n",
        "dir: sqlite3\n",
        "rmdir_all: sqlite3\n",
        "libsqlite3_0\n",
        "dir: libsqlite3_0\n",
        "rmdir_all: libsqlite3_0\n",
        "libsqlite3_0-3.7.13-1.tar.bz2\n",
        "rm: libsqlite3_0-3.7.13-1.tar.bz2\n",
        "finish up\n",
        "pwd: C:\\Temp\\http%3a%2f%2fcygwin.mirrors.pair.com%2f\\release\\sqlite3  rmdir: libsqlite3_0\n",
        "finish up\n",
        "pwd: C:\\Temp\\http%3a%2f%2fcygwin.mirrors.pair.com%2f\\release  rmdir: sqlite3\n",
        "tar\n",
        "dir: tar\n",
        "rmdir_all: tar\n",
        "tar-1.26-1.tar.bz2\n",
        "rm: tar-1.26-1.tar.bz2\n",
        "finish up\n",
        "pwd: C:\\Temp\\http%3a%2f%2fcygwin.mirrors.pair.com%2f\\release  rmdir: tar\n",
        "tcp_wrappers\n",
        "dir: tcp_wrappers\n",
        "rmdir_all: tcp_wrappers\n",
        "libwrap0\n",
        "dir: libwrap0\n",
        "rmdir_all: libwrap0\n",
        "libwrap0-7.6-21.tar.bz2\n",
        "rm: libwrap0-7.6-21.tar.bz2\n",
        "finish up\n",
        "pwd: C:\\Temp\\http%3a%2f%2fcygwin.mirrors.pair.com%2f\\release\\tcp_wrappers  rmdir: libwrap0\n",
        "finish up\n",
        "pwd: C:\\Temp\\http%3a%2f%2fcygwin.mirrors.pair.com%2f\\release  rmdir: tcp_wrappers\n",
        "terminfo\n",
        "dir: terminfo\n",
        "rmdir_all: terminfo\n",
        "terminfo-5.7_20091114-14.tar.bz2\n",
        "rm: terminfo-5.7_20091114-14.tar.bz2\n",
        "finish up\n",
        "pwd: C:\\Temp\\http%3a%2f%2fcygwin.mirrors.pair.com%2f\\release  rmdir: terminfo\n",
        "texinfo\n",
        "dir: texinfo\n",
        "rmdir_all: texinfo\n",
        "texinfo-4.13-4.tar.bz2\n",
        "rm: texinfo-4.13-4.tar.bz2\n",
        "finish up\n",
        "pwd: C:\\Temp\\http%3a%2f%2fcygwin.mirrors.pair.com%2f\\release  rmdir: texinfo\n",
        "tzcode\n",
        "dir: tzcode\n",
        "rmdir_all: tzcode\n",
        "tzcode-2012j-1.tar.bz2\n",
        "rm: tzcode-2012j-1.tar.bz2\n",
        "finish up\n",
        "pwd: C:\\Temp\\http%3a%2f%2fcygwin.mirrors.pair.com%2f\\release  rmdir: tzcode\n",
        "w32api\n",
        "dir: w32api\n",
        "rmdir_all: w32api\n",
        "w32api-9999-1.tar.bz2\n",
        "rm: w32api-9999-1.tar.bz2\n",
        "w32api-headers\n",
        "dir: w32api-headers\n",
        "rmdir_all: w32api-headers\n",
        "w32api-headers-3.0b_svn5496-1.tar.bz2\n",
        "rm: w32api-headers-3.0b_svn5496-1.tar.bz2\n",
        "finish up\n",
        "pwd: C:\\Temp\\http%3a%2f%2fcygwin.mirrors.pair.com%2f\\release\\w32api  rmdir: w32api-headers\n",
        "w32api-runtime\n",
        "dir: w32api-runtime\n",
        "rmdir_all: w32api-runtime\n",
        "w32api-runtime-3.0b_svn5496-1.tar.bz2\n",
        "rm: w32api-runtime-3.0b_svn5496-1.tar.bz2\n",
        "finish up\n",
        "pwd: C:\\Temp\\http%3a%2f%2fcygwin.mirrors.pair.com%2f\\release\\w32api  rmdir: w32api-runtime\n",
        "finish up\n",
        "pwd: C:\\Temp\\http%3a%2f%2fcygwin.mirrors.pair.com%2f\\release  rmdir: w32api\n",
        "which\n",
        "dir: which\n",
        "rmdir_all: which\n",
        "which-2.20-2.tar.bz2\n",
        "rm: which-2.20-2.tar.bz2\n",
        "finish up\n",
        "pwd: C:\\Temp\\http%3a%2f%2fcygwin.mirrors.pair.com%2f\\release  rmdir: which\n",
        "xz\n",
        "dir: xz\n",
        "rmdir_all: xz\n",
        "liblzma5\n",
        "dir: liblzma5\n",
        "rmdir_all: liblzma5\n",
        "liblzma5-5.0.2_20110517-1.tar.bz2\n",
        "rm: liblzma5-5.0.2_20110517-1.tar.bz2\n",
        "finish up\n",
        "pwd: C:\\Temp\\http%3a%2f%2fcygwin.mirrors.pair.com%2f\\release\\xz  rmdir: liblzma5\n",
        "xz-5.0.2_20110517-1.tar.bz2\n",
        "rm: xz-5.0.2_20110517-1.tar.bz2\n",
        "finish up\n",
        "pwd: C:\\Temp\\http%3a%2f%2fcygwin.mirrors.pair.com%2f\\release  rmdir: xz\n",
        "zlib\n",
        "dir: zlib\n",
        "rmdir_all: zlib\n",
        "zlib-devel\n",
        "dir: zlib-devel\n",
        "rmdir_all: zlib-devel\n",
        "zlib-devel-1.2.7-1.tar.bz2\n",
        "rm: zlib-devel-1.2.7-1.tar.bz2\n",
        "finish up\n",
        "pwd: C:\\Temp\\http%3a%2f%2fcygwin.mirrors.pair.com%2f\\release\\zlib  rmdir: zlib-devel\n",
        "zlib0\n",
        "dir: zlib0\n",
        "rmdir_all: zlib0\n",
        "zlib0-1.2.7-1.tar.bz2\n",
        "rm: zlib0-1.2.7-1.tar.bz2\n",
        "finish up\n",
        "pwd: C:\\Temp\\http%3a%2f%2fcygwin.mirrors.pair.com%2f\\release\\zlib  rmdir: zlib0\n",
        "finish up\n",
        "pwd: C:\\Temp\\http%3a%2f%2fcygwin.mirrors.pair.com%2f\\release  rmdir: zlib\n",
        "_autorebase\n",
        "dir: _autorebase\n",
        "rmdir_all: _autorebase\n",
        "_autorebase-000204-1.tar.bz2\n",
        "rm: _autorebase-000204-1.tar.bz2\n",
        "_autorebase-000209-1.tar.bz2\n",
        "rm: _autorebase-000209-1.tar.bz2\n",
        "finish up\n",
        "pwd: C:\\Temp\\http%3a%2f%2fcygwin.mirrors.pair.com%2f\\release  rmdir: _autorebase\n",
        "_update-info-dir\n",
        "dir: _update-info-dir\n",
        "rmdir_all: _update-info-dir\n",
        "_update-info-dir-01104-1.tar.bz2\n",
        "rm: _update-info-dir-01104-1.tar.bz2\n",
        "_update-info-dir-01105-1.tar.bz2\n",
        "rm: _update-info-dir-01105-1.tar.bz2\n",
        "finish up\n",
        "pwd: C:\\Temp\\http%3a%2f%2fcygwin.mirrors.pair.com%2f\\release  rmdir: _update-info-dir\n",
        "finish up\n",
        "pwd: C:\\Temp\\http%3a%2f%2fcygwin.mirrors.pair.com%2f  rmdir: release\n",
        "setup.ini\n",
        "rm: setup.ini\n",
        "finish up\n",
        "pwd: C:\\Temp  rmdir: C:\\Temp\\http%3a%2f%2fcygwin.mirrors.pair.com%2f\n"
       ]
      }
     ],
     "prompt_number": 104
    },
    {
     "cell_type": "markdown",
     "metadata": {},
     "source": [
      "##9.10 Renaming Files"
     ]
    },
    {
     "cell_type": "code",
     "collapsed": false,
     "input": [
      "cd(HOME)"
     ],
     "language": "python",
     "metadata": {},
     "outputs": [],
     "prompt_number": 111
    },
    {
     "cell_type": "code",
     "collapsed": false,
     "input": [
      "fn=\"julia_test.txt\"\n",
      "fn2=replace(fn, \".txt\",\"2.txt\")\n",
      "cp(fn,fn2)"
     ],
     "language": "python",
     "metadata": {},
     "outputs": [],
     "prompt_number": 113
    },
    {
     "cell_type": "code",
     "collapsed": false,
     "input": [
      "mv(fn2, replace(fn2, \"2.txt\",\"77.txt\"))"
     ],
     "language": "python",
     "metadata": {},
     "outputs": [],
     "prompt_number": 114
    },
    {
     "cell_type": "markdown",
     "metadata": {},
     "source": [
      "##9.11 Splitting a Filename into its Component Parts"
     ]
    },
    {
     "cell_type": "code",
     "collapsed": false,
     "input": [
      "testfile=\"$HOME$(readdir(HOME)[1])\""
     ],
     "language": "python",
     "metadata": {},
     "outputs": [
      {
       "metadata": {},
       "output_type": "pyout",
       "prompt_number": 124,
       "text": [
        "\"C:\\\\keithc\\\\julia\\\\ijulia_pleac\\\\IJulia_PLEAC.git\""
       ]
      }
     ],
     "prompt_number": 124
    },
    {
     "cell_type": "code",
     "collapsed": false,
     "input": [
      "_basename = basename(testfile)"
     ],
     "language": "python",
     "metadata": {},
     "outputs": [
      {
       "metadata": {},
       "output_type": "pyout",
       "prompt_number": 126,
       "text": [
        "\"IJulia_PLEAC.git\""
       ]
      }
     ],
     "prompt_number": 126
    },
    {
     "cell_type": "code",
     "collapsed": false,
     "input": [
      "dirname(HOME)"
     ],
     "language": "python",
     "metadata": {},
     "outputs": [
      {
       "metadata": {},
       "output_type": "pyout",
       "prompt_number": 117,
       "text": [
        "\"C:\\\\keithc\\\\julia\\\\ijulia_pleac\""
       ]
      }
     ],
     "prompt_number": 117
    },
    {
     "cell_type": "code",
     "collapsed": false,
     "input": [
      "maximum(search(_basename,\".\")) > 0"
     ],
     "language": "python",
     "metadata": {},
     "outputs": [
      {
       "metadata": {},
       "output_type": "pyout",
       "prompt_number": 134,
       "text": [
        "true"
       ]
      }
     ],
     "prompt_number": 134
    },
    {
     "cell_type": "code",
     "collapsed": false,
     "input": [
      "function file_extension(path)\n",
      "   _basename = basename(path)\n",
      "    return maximum(search(_basename,\".\"))>0 ? split(_basename,'.')[end] : \"\"\n",
      "end"
     ],
     "language": "python",
     "metadata": {},
     "outputs": [
      {
       "metadata": {},
       "output_type": "pyout",
       "prompt_number": 137,
       "text": [
        "file_extension (generic function with 1 method)"
       ]
      }
     ],
     "prompt_number": 137
    },
    {
     "cell_type": "code",
     "collapsed": false,
     "input": [
      "file_extension(_basename)"
     ],
     "language": "python",
     "metadata": {},
     "outputs": [
      {
       "metadata": {},
       "output_type": "pyout",
       "prompt_number": 138,
       "text": [
        "\"git\""
       ]
      }
     ],
     "prompt_number": 138
    },
    {
     "cell_type": "markdown",
     "metadata": {},
     "source": [
      "## Programs"
     ]
    },
    {
     "cell_type": "code",
     "collapsed": false,
     "input": [
      "#not implemented"
     ],
     "language": "python",
     "metadata": {},
     "outputs": []
    }
   ],
   "metadata": {}
  }
 ]
}